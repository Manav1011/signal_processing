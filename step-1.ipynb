{
 "cells": [
  {
   "cell_type": "code",
   "execution_count": 258,
   "metadata": {},
   "outputs": [],
   "source": [
    "# Audio preprocessing\n",
    "import librosa\n",
    "import soundfile as sf\n",
    "import numpy as np\n",
    "from pydub import AudioSegment\n",
    "import seaborn as sns"
   ]
  },
  {
   "cell_type": "code",
   "execution_count": 259,
   "metadata": {},
   "outputs": [],
   "source": [
    "def load_audio(file_path, target_sr=16000):\n",
    "    \"\"\"\n",
    "    Load a WAV audio file and resample it to a fixed sampling rate.\n",
    "    \n",
    "    Args:\n",
    "        file_path (str): Path to the audio file.\n",
    "        target_sr (int): Target sampling rate (default: 16kHz).\n",
    "    \n",
    "    Returns:\n",
    "        y (numpy array): Audio waveform.\n",
    "        sr (int): Sampling rate of the loaded audio.\n",
    "    \"\"\"\n",
    "    y, sr = librosa.load(file_path, sr=target_sr)\n",
    "    return y, sr"
   ]
  },
  {
   "cell_type": "code",
   "execution_count": 260,
   "metadata": {},
   "outputs": [],
   "source": [
    "def rms_normalization(audio, target_rms=0.1):\n",
    "    \"\"\"\n",
    "    Normalize the audio signal to a fixed RMS (Root Mean Square) value.\n",
    "\n",
    "    Args:\n",
    "        audio (numpy array): Input audio waveform.\n",
    "        target_rms (float): Target RMS level.\n",
    "\n",
    "    Returns:\n",
    "        y_norm (numpy array): RMS-normalized audio waveform.\n",
    "    \"\"\"\n",
    "    rms = np.sqrt(np.mean(audio**2))  # Compute current RMS\n",
    "    scaling_factor = target_rms / (rms + 1e-10)  # Avoid division by zero\n",
    "    y_norm = audio * scaling_factor  # Scale audio to match target RMS\n",
    "\n",
    "    return y_norm"
   ]
  },
  {
   "cell_type": "code",
   "execution_count": 261,
   "metadata": {},
   "outputs": [],
   "source": [
    "def calculate_features(audio_path):\n",
    "    y, sr = load_audio(audio_path)  # Load and resample\n",
    "    y_norm = rms_normalization(y)  # Normalize volume\n",
    "    features = {}\n",
    "    # --- 1. MFCCs ---\n",
    "    mfccs = librosa.feature.mfcc(y=y_norm, sr=sr, n_mfcc=13)\n",
    "    mfccs_mean = np.mean(mfccs, axis=1)\n",
    "    features['mfccs'] = mfccs_mean\n",
    "    \n",
    "    # --- 2. Spectral Entropy ---\n",
    "    spec = np.abs(librosa.stft(y_norm, n_fft=2048))\n",
    "    col_sums = np.sum(spec, axis=0, keepdims=True)\n",
    "\n",
    "    # Prevent division by zero\n",
    "    col_sums[col_sums == 0] = 1e-10\n",
    "    prob_dist = spec / col_sums\n",
    "\n",
    "    entropy = -np.sum(prob_dist * np.log2(prob_dist + 1e-10), axis=0)\n",
    "    features['spectral_entropy'] = np.mean(entropy)\n",
    "\n",
    "    \n",
    "    # --- 3. Zero-Crossing Rate ---\n",
    "    zcr = librosa.feature.zero_crossing_rate(y_norm)\n",
    "    features['zcr'] = np.mean(zcr)\n",
    "    \n",
    "    # --- 4. Spectral Centroid ---\n",
    "    centroid = librosa.feature.spectral_centroid(y=y_norm, sr=sr)\n",
    "    features['spectral_centroid'] = np.mean(centroid)\n",
    "    \n",
    "    # ✅ 5. Spectral Bandwidth\n",
    "    spectral_bandwidth = librosa.feature.spectral_bandwidth(y=y_norm, sr=sr)\n",
    "    bandwidth_mean = np.mean(spectral_bandwidth)\n",
    "    features['spectral_bandwith'] = bandwidth_mean\n",
    "    \n",
    "     # Combine into a single feature vector\n",
    "    feature_vector = np.concatenate([\n",
    "        features['mfccs'],\n",
    "        [features['spectral_entropy']],\n",
    "        [features['zcr']],\n",
    "        [features['spectral_centroid']],\n",
    "        [features['spectral_bandwith']]\n",
    "    ])\n",
    "    return feature_vector"
   ]
  },
  {
   "cell_type": "code",
   "execution_count": 262,
   "metadata": {},
   "outputs": [],
   "source": [
    "audios = [\n",
    "    'output_audios/audio1.wav',\n",
    "    'output_audios/audio2.wav',\n",
    "    'output_audios/audio3.wav',\n",
    "    'output_audios/audio5.wav',\n",
    "    'output_audios/audio6.wav',\n",
    "    'output_audios/audio7.wav',\n",
    "    'output_audios/audio8.wav',\n",
    "    'output_audios/audio9.wav',\n",
    "    'output_audios/audio10.wav',\n",
    "    'output_audios/audio11.wav',\n",
    "    'output_audios/audio12.wav',\n",
    "    'output_audios/audio13.wav',\n",
    "    'output_audios/audio14.wav',\n",
    "    'output_audios/audio15.wav',\n",
    "    'output_audios/audio16.wav',\n",
    "    'output_audios/audio17.wav',\n",
    "    \n",
    "]\n",
    "X = [calculate_features(audio) for audio in audios]"
   ]
  },
  {
   "cell_type": "code",
   "execution_count": 263,
   "metadata": {},
   "outputs": [
    {
     "data": {
      "text/plain": [
       "[array([-1.15282898e+02,  1.33760696e+02, -2.47462921e+01,  4.56455803e+01,\n",
       "        -2.85112019e+01,  1.40439081e+01, -1.89290295e+01,  2.23694038e+01,\n",
       "        -1.23675194e+01,  7.94238997e+00, -1.11199665e+01,  5.90307570e+00,\n",
       "        -3.29176235e+00,  8.24116039e+00,  1.03917321e-01,  1.32087362e+03,\n",
       "         1.37870095e+03]),\n",
       " array([-1.42581100e+02,  1.51977066e+02, -7.94221725e+01,  3.86721725e+01,\n",
       "        -3.52597351e+01, -1.77924156e+01, -9.13916969e+00, -2.54057903e+01,\n",
       "        -5.53045416e+00, -1.61189728e+01, -7.76212549e+00, -1.53763056e+01,\n",
       "        -1.14548378e+01,  8.15157223e+00,  1.07477232e-01,  1.30460807e+03,\n",
       "         1.08008023e+03]),\n",
       " array([-9.32346649e+01,  6.71615219e+01, -4.60623970e+01,  9.22339916e+00,\n",
       "        -8.21910095e+00, -1.41167796e+00,  4.60120678e+00, -6.97902441e-01,\n",
       "        -1.12732925e+01,  4.84043550e+00, -8.19958591e+00, -3.59120011e+00,\n",
       "        -1.75857043e+00,  8.57074928e+00,  2.09018441e-01,  2.05595671e+03,\n",
       "         1.59471832e+03]),\n",
       " array([-1131.37097168,     0.        ,     0.        ,     0.        ,\n",
       "            0.        ,     0.        ,     0.        ,     0.        ,\n",
       "            0.        ,     0.        ,     0.        ,     0.        ,\n",
       "            0.        ,     0.        ,     0.        ,     0.        ,\n",
       "            0.        ]),\n",
       " array([-4.83438072e+01,  8.35646591e+01, -1.46088660e+00,  2.76663246e+01,\n",
       "        -3.58198094e+00,  1.87362633e+01, -6.41038609e+00,  2.27095070e+01,\n",
       "        -1.35589867e+01,  1.81359463e+01, -1.21156206e+01,  1.20807066e+01,\n",
       "        -1.23104134e+01,  9.04634571e+00,  1.66126340e-01,  2.10278850e+03,\n",
       "         2.03562443e+03]),\n",
       " array([-1.37804535e+02,  1.24559708e+02,  2.43066025e+01,  7.38958693e+00,\n",
       "        -7.15614462e+00, -3.07850063e-01, -7.06734562e+00, -4.93400478e+00,\n",
       "        -4.81554222e+00, -1.66395855e+00, -9.47050285e+00, -8.50193501e-01,\n",
       "        -9.91562080e+00,  8.03927898e+00,  6.19489397e-02,  1.19935144e+03,\n",
       "         1.68063682e+03]),\n",
       " array([-1.37405914e+02,  1.27314880e+02,  2.19415359e+01,  7.61484480e+00,\n",
       "        -3.94010210e+00, -8.70650005e+00, -1.11477652e+01, -5.08883762e+00,\n",
       "        -7.77033234e+00, -2.49705815e+00, -7.22984695e+00, -2.82352591e+00,\n",
       "        -9.55687523e+00,  7.95884132e+00,  6.30766369e-02,  1.19075338e+03,\n",
       "         1.64779825e+03]),\n",
       " array([-1.35298492e+02,  1.28863770e+02,  1.32399988e+01,  4.96403170e+00,\n",
       "        -6.07448244e+00, -1.83073139e+00, -1.29967766e+01, -1.05302849e+01,\n",
       "        -4.74807835e+00, -5.91116476e+00, -1.11744671e+01, -1.30710125e+00,\n",
       "        -1.35639772e+01,  7.99128771e+00,  6.55645461e-02,  1.17928427e+03,\n",
       "         1.59191632e+03]),\n",
       " array([-1.11052437e+02,  1.24162354e+02,  1.68666801e+01,  2.47441983e+00,\n",
       "        -6.57063913e+00, -2.16245341e+00, -1.18589916e+01, -5.16037035e+00,\n",
       "        -7.27038479e+00, -3.86630511e+00, -9.41516018e+00, -3.11366153e+00,\n",
       "        -9.71446323e+00,  8.17321968e+00,  6.79687500e-02,  1.25353593e+03,\n",
       "         1.68629198e+03]),\n",
       " array([-1.11602974e+02,  1.23647324e+02,  1.56856403e+01,  1.59465480e+00,\n",
       "        -6.27474213e+00, -9.01589680e+00, -1.48649416e+01, -6.59446478e+00,\n",
       "        -9.87407970e+00, -4.47959757e+00, -9.33893585e+00, -2.55967498e+00,\n",
       "        -1.13112583e+01,  8.18258095e+00,  7.38560268e-02,  1.28724874e+03,\n",
       "         1.69032082e+03]),\n",
       " array([-1.08493690e+02,  1.23059471e+02,  1.35646276e+01,  8.38962853e-01,\n",
       "        -8.71627235e+00, -3.62063742e+00, -1.23373690e+01, -8.76966667e+00,\n",
       "        -9.47023010e+00, -3.73163366e+00, -9.86244869e+00, -2.52796197e+00,\n",
       "        -1.12837133e+01,  8.21362686e+00,  7.49488467e-02,  1.29189359e+03,\n",
       "         1.68151234e+03]),\n",
       " array([-1.07484039e+02,  1.24606155e+02,  2.02921581e+01,  3.91514659e+00,\n",
       "        -1.08504591e+01, -2.97695422e+00, -1.21218615e+01, -4.12022829e+00,\n",
       "        -6.92489529e+00, -2.39107490e+00, -8.83661079e+00, -3.19000959e+00,\n",
       "        -9.61858654e+00,  8.18273926e+00,  7.03101749e-02,  1.26738393e+03,\n",
       "         1.68938501e+03]),\n",
       " array([-1.15839752e+02,  1.25928383e+02,  2.08707752e+01,  6.86519480e+00,\n",
       "        -8.30177402e+00, -1.89559758e+00, -1.31635551e+01, -5.83525610e+00,\n",
       "        -8.06264687e+00, -4.63777161e+00, -9.53856564e+00, -3.48276854e+00,\n",
       "        -1.12872906e+01,  8.09602070e+00,  6.47553943e-02,  1.21455887e+03,\n",
       "         1.66314279e+03]),\n",
       " array([-1.19646965e+02,  1.28322083e+02,  1.14607363e+01,  1.20180731e+01,\n",
       "        -1.45986719e+01,  1.01395816e-01, -8.40791702e+00, -4.73374796e+00,\n",
       "        -8.81165791e+00, -2.91613007e+00, -9.22829628e+00, -3.77478552e+00,\n",
       "        -1.27316666e+01,  8.06859207e+00,  6.10770089e-02,  1.15538072e+03,\n",
       "         1.55073962e+03]),\n",
       " array([-1.27963081e+02,  1.27723175e+02,  1.17836475e+01,  3.18434858e+00,\n",
       "        -8.77188683e+00, -7.06662321e+00, -1.31322203e+01, -7.59699535e+00,\n",
       "        -7.32853413e+00, -2.48058152e+00, -1.01241932e+01, -1.39184773e+00,\n",
       "        -9.33470821e+00,  8.12440872e+00,  6.99943597e-02,  1.21693958e+03,\n",
       "         1.60266548e+03]),\n",
       " array([-1.37952362e+02,  1.28108643e+02,  1.13417130e+01,  4.10153008e+00,\n",
       "        -7.07179832e+00, -7.74980831e+00, -1.34677525e+01, -7.87688923e+00,\n",
       "        -6.82683086e+00, -3.13361645e+00, -1.01493788e+01, -1.45693660e+00,\n",
       "        -9.80183029e+00,  8.11835957e+00,  6.89057850e-02,  1.20715109e+03,\n",
       "         1.59713414e+03])]"
      ]
     },
     "execution_count": 263,
     "metadata": {},
     "output_type": "execute_result"
    }
   ],
   "source": [
    "X"
   ]
  },
  {
   "cell_type": "code",
   "execution_count": 264,
   "metadata": {},
   "outputs": [],
   "source": [
    "# Step 4 - Clustering\n",
    "from sklearn.preprocessing import StandardScaler\n",
    "import hdbscan"
   ]
  },
  {
   "cell_type": "code",
   "execution_count": 265,
   "metadata": {},
   "outputs": [
    {
     "data": {
      "text/plain": [
       "array([[ 0.26275423,  0.5670341 , -0.96340952,  2.5859001 , -2.06965407,\n",
       "         1.92799886, -1.59726451,  2.29716781, -1.44449946,  1.33659017,\n",
       "        -0.82100371,  1.42625976,  1.53469052,  0.27138949,  0.45531921,\n",
       "         0.12854142, -0.30542851],\n",
       "       [ 0.15206748,  1.08771143, -2.94366846,  2.06525616, -2.83424244,\n",
       "        -1.90291696,  0.15944719, -1.98382926,  0.71283841, -2.09411884,\n",
       "         0.46295472, -2.55695097, -0.5916518 ,  0.22667429,  0.53302943,\n",
       "         0.09079585, -0.996572  ],\n",
       "       [ 0.35215379, -1.33656585, -1.73543929, -0.1334286 ,  0.22937946,\n",
       "         0.06820344,  2.62504738,  0.23017316, -1.09923188,  0.89430835,\n",
       "         0.29568027, -0.35093953,  1.93406094,  0.43589376,  2.74959864,\n",
       "         1.8343634 ,  0.19453345],\n",
       "       [-3.85720528, -3.25623934, -0.06714474, -0.8220599 ,  1.16057869,\n",
       "         0.23807291,  1.79939779,  0.29271018,  2.45789391,  0.20415103,\n",
       "         3.43100664,  0.32128428,  2.39213863, -3.84193498, -1.81311878,\n",
       "        -2.93665662, -3.49636649],\n",
       "       [ 0.53417395, -0.86771603, -0.12005535,  1.24354485,  0.75475111,\n",
       "         2.49263747,  0.64910549,  2.32764347, -1.82044987,  2.79000433,\n",
       "        -1.20171813,  2.58262823, -0.81451468,  0.67327325,  1.81329591,\n",
       "         1.94304048,  1.21498972],\n",
       "       [ 0.17143515,  0.30404283,  0.81319529, -0.27034347,  0.34980919,\n",
       "         0.20102881,  0.53121938, -0.14941173,  0.93841862, -0.03309894,\n",
       "        -0.19028809,  0.16213962, -0.19071195,  0.17062653, -0.46081941,\n",
       "        -0.15346099,  0.39338773],\n",
       "       [ 0.17305144,  0.38279375,  0.72753697, -0.25352542,  0.71417706,\n",
       "        -0.80959419, -0.20097913, -0.16328585,  0.00607698, -0.15188366,\n",
       "         0.66648536, -0.20724136, -0.09726483,  0.13047852, -0.43620262,\n",
       "        -0.17341352,  0.31738443],\n",
       "       [ 0.18159646,  0.42706555,  0.41238345, -0.45143866,  0.47235824,\n",
       "         0.01777807, -0.53276938, -0.65087821,  0.95970588, -0.63867264,\n",
       "        -0.84184343,  0.07661271, -1.14104675,  0.14667315, -0.3818934 ,\n",
       "        -0.20002854,  0.18804836],\n",
       "       [ 0.2799076 ,  0.29268528,  0.54373511, -0.63731641,  0.41614519,\n",
       "        -0.02213858, -0.32860301, -0.16969569,  0.16382826, -0.34711316,\n",
       "        -0.16912637, -0.2615508 , -0.13831382,  0.23747896, -0.32941142,\n",
       "        -0.02772135,  0.40647633],\n",
       "       [ 0.27767532,  0.27796421,  0.50096004, -0.70300084,  0.44966942,\n",
       "        -0.84682439, -0.86799659, -0.29820075, -0.65773033, -0.43455742,\n",
       "        -0.13998001, -0.15785206, -0.55425178,  0.24215135, -0.20089654,\n",
       "         0.05051207,  0.41580091],\n",
       "       [ 0.29028261,  0.26116166,  0.4241409 , -0.75942181,  0.17305145,\n",
       "        -0.19760419, -0.41444398, -0.4931143 , -0.53030138, -0.32791148,\n",
       "        -0.34015885, -0.15191581, -0.54707679,  0.25764697, -0.17704109,\n",
       "         0.06129083,  0.39541409],\n",
       "       [ 0.29437647,  0.30537044,  0.66779957, -0.52974983, -0.06874544,\n",
       "        -0.12014876, -0.37577289, -0.07649157,  0.27284251, -0.13677239,\n",
       "         0.05209713, -0.27584212, -0.11333957,  0.24223036, -0.27829985,\n",
       "         0.0044141 ,  0.41363502],\n",
       "       [ 0.26049634,  0.34316358,  0.68875601, -0.30949529,  0.22001285,\n",
       "         0.00997261, -0.56269646, -0.23017025, -0.08615868, -0.45711013,\n",
       "        -0.21631368, -0.33064261, -0.54800859,  0.19894743, -0.39955659,\n",
       "        -0.11817088,  0.35289864],\n",
       "       [ 0.24505913,  0.41158255,  0.34794186,  0.07522549, -0.49340659,\n",
       "         0.25027403,  0.29066461, -0.13146729, -0.32249837, -0.21163563,\n",
       "        -0.09767407, -0.38530422, -0.92424397,  0.18525727, -0.47985301,\n",
       "        -0.25549875,  0.09274682],\n",
       "       [ 0.21133955,  0.39446401,  0.3596371 , -0.58431218,  0.1667505 ,\n",
       "        -0.61226518, -0.55707366, -0.38803461,  0.14548007, -0.14953439,\n",
       "        -0.44024371,  0.06074932, -0.0393941 ,  0.21311645, -0.28519386,\n",
       "        -0.11264624,  0.21292678],\n",
       "       [ 0.17083575,  0.40548181,  0.34363105, -0.51583419,  0.35936537,\n",
       "        -0.69447394, -0.61728222, -0.4131151 ,  0.30378534, -0.2426452 ,\n",
       "        -0.44987408,  0.04856557, -0.16107146,  0.2100972 , -0.30895664,\n",
       "        -0.13536126,  0.20012475]])"
      ]
     },
     "execution_count": 265,
     "metadata": {},
     "output_type": "execute_result"
    }
   ],
   "source": [
    "# --- Step 1: Scale the features ---\n",
    "scaler = StandardScaler()\n",
    "X_scaled = scaler.fit_transform(X)\n",
    "X_scaled"
   ]
  },
  {
   "cell_type": "code",
   "execution_count": 266,
   "metadata": {},
   "outputs": [],
   "source": [
    "from sklearn.decomposition import PCA\n",
    "import matplotlib.pyplot as plt\n",
    "\n",
    "pca = PCA(n_components=3)\n",
    "X_2d = pca.fit_transform(X_scaled)\n",
    "# print(X_2d)\n",
    "\n",
    "# # Visualize: color first 11 as one group\n",
    "# colors = ['blue']*4 + ['red']*11\n",
    "\n",
    "# plt.figure(figsize=(6,4))\n",
    "# plt.scatter(X_2d[:,0], X_2d[:,1], c=colors)\n",
    "# plt.title(\"PCA Projection - First 11 are 'same environment'\")\n",
    "# plt.xlabel(\"PC1\")\n",
    "# plt.ylabel(\"PC2\")\n",
    "# plt.grid(True)\n",
    "# plt.show()"
   ]
  },
  {
   "cell_type": "code",
   "execution_count": 281,
   "metadata": {},
   "outputs": [
    {
     "name": "stderr",
     "output_type": "stream",
     "text": [
      "/home/web-h-054/Documents/signal_processing/venv/lib/python3.10/site-packages/sklearn/utils/deprecation.py:151: FutureWarning: 'force_all_finite' was renamed to 'ensure_all_finite' in 1.6 and will be removed in 1.8.\n",
      "  warnings.warn(\n",
      "/home/web-h-054/Documents/signal_processing/venv/lib/python3.10/site-packages/sklearn/utils/deprecation.py:151: FutureWarning: 'force_all_finite' was renamed to 'ensure_all_finite' in 1.6 and will be removed in 1.8.\n",
      "  warnings.warn(\n"
     ]
    },
    {
     "data": {
      "text/plain": [
       "array([ 0, -1,  0, -1,  0,  1,  1,  1,  1,  1,  1,  1,  1,  1,  1,  1])"
      ]
     },
     "execution_count": 281,
     "metadata": {},
     "output_type": "execute_result"
    }
   ],
   "source": [
    "# --- Step 2: Cluster using HDBSCAN ---\n",
    "from sklearn.decomposition import PCA\n",
    "# Reduce dimensions first\n",
    "\n",
    "# Now cluster on the PCA-reduced data\n",
    "clusterer = hdbscan.HDBSCAN(min_cluster_size=2, min_samples=1,prediction_data=True)\n",
    "labels = clusterer.fit_predict(X_2d)\n",
    "labels"
   ]
  },
  {
   "cell_type": "code",
   "execution_count": 268,
   "metadata": {},
   "outputs": [],
   "source": [
    "# plt.figure(figsize=(6, 4))\n",
    "# plt.scatter(X_2d[:, 0], X_2d[:, 1], c=labels, cmap='tab10', s=60)\n",
    "# plt.title(\"HDBSCAN Clustering on PCA Projection\")\n",
    "# plt.xlabel(\"PC1\")\n",
    "# plt.ylabel(\"PC2\")\n",
    "# plt.grid(True)\n",
    "# plt.show()"
   ]
  },
  {
   "cell_type": "code",
   "execution_count": 269,
   "metadata": {},
   "outputs": [
    {
     "data": {
      "image/png": "[encoded data removed]",
      "text/plain": [
       "<Figure size 640x480 with 1 Axes>"
      ]
     },
     "metadata": {},
     "output_type": "display_data"
    },
    {
     "name": "stdout",
     "output_type": "stream",
     "text": [
      "Chosen epsilon value: 0.7807942114155426\n"
     ]
    }
   ],
   "source": [
    "import numpy as np\n",
    "import matplotlib.pyplot as plt\n",
    "from sklearn.neighbors import NearestNeighbors\n",
    "from sklearn.decomposition import PCA\n",
    "from kneed import KneeLocator\n",
    "from sklearn.cluster import DBSCAN\n",
    "\n",
    "# Step 1: Calculate k-distances\n",
    "k = 5  # min_samples value\n",
    "nbrs = NearestNeighbors(n_neighbors=k).fit(X_2d)\n",
    "distances, indices = nbrs.kneighbors(X_2d)\n",
    "\n",
    "# Sort the distances in ascending order\n",
    "distances = np.sort(distances[:, -1], axis=0)\n",
    "\n",
    "# Step 2: Use KneeLocator to find the optimal epsilon (elbow)\n",
    "kneedle = KneeLocator(range(len(distances)), distances, curve='convex', direction='increasing')\n",
    "epsilon = distances[kneedle.elbow]\n",
    "\n",
    "\n",
    "# Step 3: Plot the k-distance graph and highlight the chosen epsilon\n",
    "plt.plot(distances)\n",
    "plt.axvline(x=kneedle.elbow, color='r', linestyle='--', label=f'Chosen epsilon: {epsilon}')\n",
    "plt.xlabel('Points sorted by distance')\n",
    "plt.ylabel(f'{k}-distance')\n",
    "plt.title('k-distance graph')\n",
    "plt.legend()\n",
    "plt.show()\n",
    "\n",
    "# Step 4: Use the optimal epsilon for DBSCAN\n",
    "dbscan = DBSCAN(eps=epsilon, min_samples=k)\n",
    "labels = dbscan.fit_predict(X_2d)\n",
    "\n",
    "print(f\"Chosen epsilon value: {epsilon}\")"
   ]
  },
  {
   "cell_type": "code",
   "execution_count": null,
   "metadata": {},
   "outputs": [
    {
     "data": {
      "text/plain": [
       "array([-1, -1, -1, -1, -1,  0,  0,  0,  0,  0,  0,  0,  0,  0,  0,  0])"
      ]
     },
     "execution_count": 270,
     "metadata": {},
     "output_type": "execute_result"
    }
   ],
   "source": [
    "from sklearn.cluster import DBSCAN\n",
    "\n",
    "clusterer = DBSCAN(eps=epsilon, min_samples=5)\n",
    "labels = clusterer.fit_predict(X_2d)\n",
    "labels"
   ]
  }
 ],
 "metadata": {
  "kernelspec": {
   "display_name": "venv",
   "language": "python",
   "name": "python3"
  },
  "language_info": {
   "codemirror_mode": {
    "name": "ipython",
    "version": 3
   },
   "file_extension": ".py",
   "mimetype": "text/x-python",
   "name": "python",
   "nbconvert_exporter": "python",
   "pygments_lexer": "ipython3",
   "version": "3.10.16"
  }
 },
 "nbformat": 4,
 "nbformat_minor": 2
}
