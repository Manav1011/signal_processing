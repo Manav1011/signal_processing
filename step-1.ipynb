{
 "cells": [
  {
   "cell_type": "code",
   "execution_count": 4,
   "metadata": {},
   "outputs": [
    {
     "name": "stderr",
     "output_type": "stream",
     "text": [
      "/home/web-h-054/Documents/signal_processing/venv/lib/python3.10/site-packages/pydub/utils.py:170: RuntimeWarning: Couldn't find ffmpeg or avconv - defaulting to ffmpeg, but may not work\n",
      "  warn(\"Couldn't find ffmpeg or avconv - defaulting to ffmpeg, but may not work\", RuntimeWarning)\n"
     ]
    }
   ],
   "source": [
    "# Audio preprocessing\n",
    "import librosa\n",
    "import soundfile as sf\n",
    "import numpy as np\n",
    "from pydub import AudioSegment\n",
    "import seaborn as sns"
   ]
  },
  {
   "cell_type": "code",
   "execution_count": 1,
   "metadata": {},
   "outputs": [],
   "source": [
    "def load_audio(file_path, target_sr=16000):\n",
    "    \"\"\"\n",
    "    Load a WAV audio file and resample it to a fixed sampling rate.\n",
    "    \n",
    "    Args:\n",
    "        file_path (str): Path to the audio file.\n",
    "        target_sr (int): Target sampling rate (default: 16kHz).\n",
    "    \n",
    "    Returns:\n",
    "        y (numpy array): Audio waveform.\n",
    "        sr (int): Sampling rate of the loaded audio.\n",
    "    \"\"\"\n",
    "    y, sr = librosa.load(file_path, sr=target_sr)\n",
    "    return y, sr"
   ]
  },
  {
   "cell_type": "code",
   "execution_count": 2,
   "metadata": {},
   "outputs": [],
   "source": [
    "def rms_normalization(audio, target_rms=0.1):\n",
    "    \"\"\"\n",
    "    Normalize the audio signal to a fixed RMS (Root Mean Square) value.\n",
    "\n",
    "    Args:\n",
    "        audio (numpy array): Input audio waveform.\n",
    "        target_rms (float): Target RMS level.\n",
    "\n",
    "    Returns:\n",
    "        y_norm (numpy array): RMS-normalized audio waveform.\n",
    "    \"\"\"\n",
    "    rms = np.sqrt(np.mean(audio**2))  # Compute current RMS\n",
    "    scaling_factor = target_rms / (rms + 1e-10)  # Avoid division by zero\n",
    "    y_norm = audio * scaling_factor  # Scale audio to match target RMS\n",
    "\n",
    "    return y_norm"
   ]
  },
  {
   "cell_type": "code",
   "execution_count": 95,
   "metadata": {},
   "outputs": [],
   "source": [
    "import librosa\n",
    "import numpy as np\n",
    "\n",
    "def calculate_features(audio_path):\n",
    "    y, sr = load_audio(audio_path)  # Load and resample\n",
    "    y_norm = rms_normalization(y)  # Normalize volume\n",
    "    features = {}\n",
    "\n",
    "    # --- 1. MFCCs ---\n",
    "    mfccs = librosa.feature.mfcc(y=y_norm, sr=sr, n_mfcc=13)\n",
    "    mfccs_mean = np.mean(mfccs, axis=1)\n",
    "    features['mfccs'] = mfccs_mean\n",
    "\n",
    "    # --- 1b. Delta MFCCs ---\n",
    "    mfccs_delta = librosa.feature.delta(mfccs)\n",
    "    delta_mean = np.mean(mfccs_delta, axis=1)\n",
    "    features['delta_mfccs'] = delta_mean\n",
    "\n",
    "    # --- 2. Spectral Entropy ---\n",
    "    spec = np.abs(librosa.stft(y_norm, n_fft=2048))\n",
    "    col_sums = np.sum(spec, axis=0, keepdims=True)\n",
    "    col_sums[col_sums == 0] = 1e-10\n",
    "    prob_dist = spec / col_sums\n",
    "    entropy = -np.sum(prob_dist * np.log2(prob_dist + 1e-10), axis=0)\n",
    "    features['spectral_entropy'] = np.mean(entropy)\n",
    "\n",
    "    # --- 3. Zero-Crossing Rate ---\n",
    "    zcr = librosa.feature.zero_crossing_rate(y_norm)\n",
    "    features['zcr'] = np.mean(zcr)\n",
    "\n",
    "    # --- 4. Spectral Centroid ---\n",
    "    centroid = librosa.feature.spectral_centroid(y=y_norm, sr=sr)\n",
    "    features['spectral_centroid'] = np.mean(centroid)\n",
    "\n",
    "    # --- 5. Spectral Bandwidth ---\n",
    "    bandwidth = librosa.feature.spectral_bandwidth(y=y_norm, sr=sr)\n",
    "    features['spectral_bandwidth'] = np.mean(bandwidth)\n",
    "\n",
    "    # --- 6. Chroma STFT ---\n",
    "    chroma = librosa.feature.chroma_stft(y=y_norm, sr=sr)\n",
    "    features['chroma_stft'] = np.mean(chroma, axis=1)\n",
    "\n",
    "    # --- 7. Spectral Roll-off ---\n",
    "    rolloff = librosa.feature.spectral_rolloff(y=y_norm, sr=sr)\n",
    "    features['rolloff'] = np.mean(rolloff)\n",
    "\n",
    "    # Combine all features into a single vector\n",
    "    feature_vector = np.concatenate([\n",
    "        features['mfccs'],\n",
    "        features['delta_mfccs'],\n",
    "        [features['spectral_entropy']],\n",
    "        [features['zcr']],\n",
    "        [features['spectral_centroid']],\n",
    "        [features['spectral_bandwidth']],\n",
    "        features['chroma_stft'],\n",
    "        [features['rolloff']]\n",
    "    ])\n",
    "\n",
    "    return feature_vector"
   ]
  },
  {
   "cell_type": "code",
   "execution_count": 96,
   "metadata": {},
   "outputs": [],
   "source": [
    "audios = [\n",
    "    'output_audios/audio1.wav',\n",
    "    # 'output_audios/audio2.wav',\n",
    "    # 'output_audios/audio3.wav',\n",
    "    'output_audios/audio4.wav',\n",
    "    # 'output_audios/audio6.wav',\n",
    "    # 'output_audios/audio7.wav',\n",
    "    # 'output_audios/audio8.wav',\n",
    "    # 'output_audios/audio9.wav',\n",
    "    # 'output_audios/audio10.wav',\n",
    "    # 'output_audios/audio11.wav',\n",
    "    # 'output_audios/audio12.wav',\n",
    "    # 'output_audios/audio13.wav',\n",
    "    # 'output_audios/audio14.wav',\n",
    "    # 'output_audios/audio15.wav',\n",
    "    # 'output_audios/audio16.wav',\n",
    "    # 'output_audios/audio17.wav',\n",
    "    # 'output_audios/9 Apr, 3.21 pm.wav',\n",
    "    # 'output_audios/New recording 21.wav',\n",
    "]\n",
    "X = [calculate_features(audio) for audio in audios]"
   ]
  },
  {
   "cell_type": "code",
   "execution_count": 104,
   "metadata": {},
   "outputs": [
    {
     "name": "stdout",
     "output_type": "stream",
     "text": [
      "[array([-1.15282898e+02,  1.33760696e+02, -2.47462921e+01,  4.56455803e+01,\n",
      "       -2.85112019e+01,  1.40439081e+01, -1.89290295e+01,  2.23694038e+01,\n",
      "       -1.23675194e+01,  7.94238997e+00, -1.11199665e+01,  5.90307570e+00,\n",
      "       -3.29176235e+00, -2.00144351e-01, -9.32979584e-03,  6.72675669e-02,\n",
      "        1.09358607e-02,  4.03179564e-02,  4.34856378e-02,  1.29921492e-02,\n",
      "        2.24368069e-02, -3.12747061e-02,  5.65124229e-02, -1.09147495e-02,\n",
      "       -3.64247710e-02, -2.41834894e-02,  8.24116039e+00,  1.03917321e-01,\n",
      "        1.32087362e+03,  1.37870095e+03,  3.88639271e-01,  3.85591328e-01,\n",
      "        3.36193591e-01,  3.88681382e-01,  3.43303353e-01,  3.20649683e-01,\n",
      "        3.12035531e-01,  3.82886887e-01,  4.62398410e-01,  5.15702486e-01,\n",
      "        4.79366183e-01,  3.94836634e-01,  2.76925872e+03]), array([-6.04351997e+01,  7.60707855e+01, -1.28124743e+01,  2.80635624e+01,\n",
      "       -6.79803014e-01,  1.96309929e+01,  8.18261433e+00,  5.49435425e+00,\n",
      "        2.70960498e+00,  1.09992361e+01, -6.31808662e+00,  5.87582922e+00,\n",
      "       -6.27215719e+00,  1.06469020e-01,  4.09898832e-02, -1.67358108e-02,\n",
      "       -1.85756683e-02, -2.36949194e-02, -1.38829695e-02,  7.80611765e-03,\n",
      "       -1.85646135e-02, -5.59557043e-03,  6.48451969e-03,  2.04160027e-02,\n",
      "        2.22682189e-02, -9.13048920e-04,  8.86906433e+00,  1.67680607e-01,\n",
      "        1.97766369e+03,  1.86382325e+03,  5.93028307e-01,  4.46282327e-01,\n",
      "        4.16785449e-01,  4.53421921e-01,  5.58306396e-01,  7.02972114e-01,\n",
      "        5.67865849e-01,  5.56035399e-01,  5.21990359e-01,  5.97106695e-01,\n",
      "        5.46596050e-01,  5.21484971e-01,  3.98507903e+03])]\n"
     ]
    }
   ],
   "source": [
    "print(X)"
   ]
  },
  {
   "cell_type": "code",
   "execution_count": 105,
   "metadata": {},
   "outputs": [],
   "source": [
    "from sklearn.preprocessing import StandardScaler\n",
    "\n",
    "scaler = StandardScaler()\n",
    "X_scaled = scaler.fit_transform(X)  # X is your feature matrix\n"
   ]
  },
  {
   "cell_type": "code",
   "execution_count": 108,
   "metadata": {},
   "outputs": [
    {
     "name": "stdout",
     "output_type": "stream",
     "text": [
      "Cosine similarity: 0.9989197324038975\n",
      "Cosine similarity (after scaling): -1.0000000000000004\n"
     ]
    }
   ],
   "source": [
    "from sklearn.metrics.pairwise import cosine_similarity\n",
    "import numpy as np\n",
    "\n",
    "\n",
    "similarity = cosine_similarity([X[0]], [X[1]])[0][0]\n",
    "print(\"Cosine similarity:\", similarity)\n",
    "\n",
    "similarity = cosine_similarity([X_scaled[0]], [X_scaled[1]])[0][0]\n",
    "print(\"Cosine similarity (after scaling):\", similarity)\n"
   ]
  },
  {
   "cell_type": "code",
   "execution_count": null,
   "metadata": {},
   "outputs": [
    {
     "name": "stdout",
     "output_type": "stream",
     "text": [
      "Cluster Labels: [-1 -1 -1 -1 -1  0  0  0  0  0  0  0  0  0  0  0]\n"
     ]
    }
   ],
   "source": [
    "# from sklearn.cluster import AgglomerativeClustering\n",
    "# from sklearn.metrics.pairwise import cosine_distances\n",
    "# from sklearn.cluster import DBSCAN\n",
    "\n",
    "# distance_matrix = cosine_distances(X)\n",
    "# model = AgglomerativeClustering(n_clusters=None, distance_threshold=0.1, metric='precomputed', linkage='average')\n",
    "# labels = model.fit_predict(distance_matrix)\n",
    "# labels\n",
    "\n",
    "# # Run DBSCAN with precomputed cosine distances\n",
    "# dbscan = DBSCAN(eps=0.001, min_samples=2, metric='precomputed')\n",
    "# labels = dbscan.fit_predict(distance_matrix)\n",
    "\n",
    "# print(\"Cluster Labels:\", labels)"
   ]
  },
  {
   "cell_type": "code",
   "execution_count": 15,
   "metadata": {},
   "outputs": [],
   "source": [
    "# Step 4 - Clustering\n",
    "from sklearn.preprocessing import StandardScaler\n",
    "import hdbscan"
   ]
  },
  {
   "cell_type": "code",
   "execution_count": 21,
   "metadata": {},
   "outputs": [
    {
     "data": {
      "text/plain": [
       "array([[ 0.70710678, -0.70710678, -0.70710678, -0.70710678,  0.70710678,\n",
       "         0.70710678,  0.70710678, -0.70710678,  0.70710678,  0.70710678,\n",
       "        -0.70710678,  0.70710678,  0.70710678,  0.70710678,  0.70710678,\n",
       "         0.70710678,  0.70710678],\n",
       "       [-1.41421356,  1.41421356,  1.41421356,  1.41421356, -1.41421356,\n",
       "        -1.41421356, -1.41421356,  1.41421356, -1.41421356, -1.41421356,\n",
       "         1.41421356, -1.41421356, -1.41421356, -1.41421356, -1.41421356,\n",
       "        -1.41421356, -1.41421356],\n",
       "       [-1.41421356,  1.41421356,  1.41421356,  1.41421356, -1.41421356,\n",
       "        -1.41421356, -1.41421356,  1.41421356, -1.41421356, -1.41421356,\n",
       "         1.41421356, -1.41421356, -1.41421356, -1.41421356, -1.41421356,\n",
       "        -1.41421356, -1.41421356],\n",
       "       [-1.41421356,  1.41421356,  1.41421356,  1.41421356, -1.41421356,\n",
       "        -1.41421356, -1.41421356,  1.41421356, -1.41421356, -1.41421356,\n",
       "         1.41421356, -1.41421356, -1.41421356, -1.41421356, -1.41421356,\n",
       "        -1.41421356, -1.41421356],\n",
       "       [ 0.70710678, -0.70710678, -0.70710678, -0.70710678,  0.70710678,\n",
       "         0.70710678,  0.70710678, -0.70710678,  0.70710678,  0.70710678,\n",
       "        -0.70710678,  0.70710678,  0.70710678,  0.70710678,  0.70710678,\n",
       "         0.70710678,  0.70710678],\n",
       "       [ 0.70710678, -0.70710678, -0.70710678, -0.70710678,  0.70710678,\n",
       "         0.70710678,  0.70710678, -0.70710678,  0.70710678,  0.70710678,\n",
       "        -0.70710678,  0.70710678,  0.70710678,  0.70710678,  0.70710678,\n",
       "         0.70710678,  0.70710678],\n",
       "       [ 0.70710678, -0.70710678, -0.70710678, -0.70710678,  0.70710678,\n",
       "         0.70710678,  0.70710678, -0.70710678,  0.70710678,  0.70710678,\n",
       "        -0.70710678,  0.70710678,  0.70710678,  0.70710678,  0.70710678,\n",
       "         0.70710678,  0.70710678],\n",
       "       [ 0.70710678, -0.70710678, -0.70710678, -0.70710678,  0.70710678,\n",
       "         0.70710678,  0.70710678, -0.70710678,  0.70710678,  0.70710678,\n",
       "        -0.70710678,  0.70710678,  0.70710678,  0.70710678,  0.70710678,\n",
       "         0.70710678,  0.70710678],\n",
       "       [ 0.70710678, -0.70710678, -0.70710678, -0.70710678,  0.70710678,\n",
       "         0.70710678,  0.70710678, -0.70710678,  0.70710678,  0.70710678,\n",
       "        -0.70710678,  0.70710678,  0.70710678,  0.70710678,  0.70710678,\n",
       "         0.70710678,  0.70710678],\n",
       "       [ 0.70710678, -0.70710678, -0.70710678, -0.70710678,  0.70710678,\n",
       "         0.70710678,  0.70710678, -0.70710678,  0.70710678,  0.70710678,\n",
       "        -0.70710678,  0.70710678,  0.70710678,  0.70710678,  0.70710678,\n",
       "         0.70710678,  0.70710678],\n",
       "       [-1.41421356,  1.41421356,  1.41421356,  1.41421356, -1.41421356,\n",
       "        -1.41421356, -1.41421356,  1.41421356, -1.41421356, -1.41421356,\n",
       "         1.41421356, -1.41421356, -1.41421356, -1.41421356, -1.41421356,\n",
       "        -1.41421356, -1.41421356],\n",
       "       [ 0.70710678, -0.70710678, -0.70710678, -0.70710678,  0.70710678,\n",
       "         0.70710678,  0.70710678, -0.70710678,  0.70710678,  0.70710678,\n",
       "        -0.70710678,  0.70710678,  0.70710678,  0.70710678,  0.70710678,\n",
       "         0.70710678,  0.70710678]])"
      ]
     },
     "execution_count": 61,
     "metadata": {},
     "output_type": "execute_result"
    }
   ],
   "source": [
    "# --- Step 1: Scale the features ---\n",
    "scaler = StandardScaler()\n",
    "X_scaled = scaler.fit_transform(X)\n",
    "X_scaled"
   ]
  },
  {
   "cell_type": "code",
   "execution_count": null,
   "metadata": {},
   "outputs": [
    {
     "name": "stdout",
     "output_type": "stream",
     "text": [
      "[[ 2.91547595e+00 -7.60696417e-16]\n",
      " [-5.83095189e+00 -2.63339650e-16]\n",
      " [-5.83095189e+00 -2.63339650e-16]\n",
      " [-5.83095189e+00 -2.63339650e-16]\n",
      " [ 2.91547595e+00  1.87780323e-16]\n",
      " [ 2.91547595e+00  1.87780323e-16]\n",
      " [ 2.91547595e+00  1.87780323e-16]\n",
      " [ 2.91547595e+00  1.87780323e-16]\n",
      " [ 2.91547595e+00  1.87780323e-16]\n",
      " [ 2.91547595e+00 -2.55633517e-16]\n",
      " [-5.83095189e+00  6.23488030e-16]\n",
      " [ 2.91547595e+00 -2.55633517e-16]]\n"
     ]
    },
    {
     "data": {
      "image/png": "[encoded data removed]",
      "text/plain": [
       "<Figure size 600x400 with 1 Axes>"
      ]
     },
     "metadata": {},
     "output_type": "display_data"
    }
   ],
   "source": [
    "from sklearn.decomposition import PCA\n",
    "import matplotlib.pyplot as plt\n",
    "\n",
    "pca = PCA(n_components=3)\n",
    "X_2d = pca.fit_transform(X_scaled)\n",
    "# print(X_2d)\n",
    "\n",
    "# # Visualize: color first 11 as one group\n",
    "# colors = ['blue']*4 + ['red']*11\n",
    "\n",
    "# plt.figure(figsize=(6,4))\n",
    "# plt.scatter(X_2d[:,0], X_2d[:,1], c=colors)\n",
    "# plt.title(\"PCA Projection - First 11 are 'same environment'\")\n",
    "# plt.xlabel(\"PC1\")\n",
    "# plt.ylabel(\"PC2\")\n",
    "# plt.grid(True)\n",
    "# plt.show()"
   ]
  },
  {
   "cell_type": "code",
   "execution_count": null,
   "metadata": {},
   "outputs": [
    {
     "name": "stderr",
     "output_type": "stream",
     "text": [
      "/home/web-h-054/Documents/signal_processing/venv/lib/python3.10/site-packages/sklearn/utils/deprecation.py:151: FutureWarning: 'force_all_finite' was renamed to 'ensure_all_finite' in 1.6 and will be removed in 1.8.\n",
      "  warnings.warn(\n",
      "/home/web-h-054/Documents/signal_processing/venv/lib/python3.10/site-packages/sklearn/utils/deprecation.py:151: FutureWarning: 'force_all_finite' was renamed to 'ensure_all_finite' in 1.6 and will be removed in 1.8.\n",
      "  warnings.warn(\n"
     ]
    },
    {
     "data": {
      "text/plain": [
       "array([0, 1, 1, 1, 0, 0, 0, 0, 0, 0, 1, 0])"
      ]
     },
     "execution_count": 47,
     "metadata": {},
     "output_type": "execute_result"
    }
   ],
   "source": [
    "# --- Step 2: Cluster using HDBSCAN ---\n",
    "from sklearn.decomposition import PCA\n",
    "# Reduce dimensions first\n",
    "\n",
    "# Now cluster on the PCA-reduced data\n",
    "clusterer = hdbscan.HDBSCAN(min_cluster_size=2, min_samples=1,prediction_data=True)\n",
    "labels = clusterer.fit_predict(X_2d)\n",
    "labels"
   ]
  },
  {
   "cell_type": "code",
   "execution_count": 268,
   "metadata": {},
   "outputs": [],
   "source": [
    "# plt.figure(figsize=(6, 4))\n",
    "# plt.scatter(X_2d[:, 0], X_2d[:, 1], c=labels, cmap='tab10', s=60)\n",
    "# plt.title(\"HDBSCAN Clustering on PCA Projection\")\n",
    "# plt.xlabel(\"PC1\")\n",
    "# plt.ylabel(\"PC2\")\n",
    "# plt.grid(True)\n",
    "# plt.show()"
   ]
  },
  {
   "cell_type": "code",
   "execution_count": null,
   "metadata": {},
   "outputs": [
    {
     "data": {
      "image/png": "[encoded data removed]",
      "text/plain": [
       "<Figure size 640x480 with 1 Axes>"
      ]
     },
     "metadata": {},
     "output_type": "display_data"
    },
    {
     "name": "stdout",
     "output_type": "stream",
     "text": [
      "Chosen epsilon value: 5.960464477539063e-08\n"
     ]
    }
   ],
   "source": [
    "import numpy as np\n",
    "import matplotlib.pyplot as plt\n",
    "from sklearn.neighbors import NearestNeighbors\n",
    "from sklearn.decomposition import PCA\n",
    "from kneed import KneeLocator\n",
    "from sklearn.cluster import DBSCAN\n",
    "\n",
    "# Step 1: Calculate k-distances\n",
    "k = 5  # min_samples value\n",
    "nbrs = NearestNeighbors(n_neighbors=k).fit(X_2d)\n",
    "distances, indices = nbrs.kneighbors(X_2d)\n",
    "\n",
    "# Sort the distances in ascending order\n",
    "distances = np.sort(distances[:, -1], axis=0)\n",
    "\n",
    "# Step 2: Use KneeLocator to find the optimal epsilon (elbow)\n",
    "kneedle = KneeLocator(range(len(distances)), distances, curve='convex', direction='increasing')\n",
    "epsilon = distances[kneedle.elbow]\n",
    "\n",
    "\n",
    "# Step 3: Plot the k-distance graph and highlight the chosen epsilon\n",
    "plt.plot(distances)\n",
    "plt.axvline(x=kneedle.elbow, color='r', linestyle='--', label=f'Chosen epsilon: {epsilon}')\n",
    "plt.xlabel('Points sorted by distance')\n",
    "plt.ylabel(f'{k}-distance')\n",
    "plt.title('k-distance graph')\n",
    "plt.legend()\n",
    "plt.show()\n",
    "\n",
    "# Step 4: Use the optimal epsilon for DBSCAN\n",
    "dbscan = DBSCAN(eps=epsilon, min_samples=k)\n",
    "labels = dbscan.fit_predict(X_2d)\n",
    "\n",
    "print(f\"Chosen epsilon value: {epsilon}\")"
   ]
  },
  {
   "cell_type": "code",
   "execution_count": null,
   "metadata": {},
   "outputs": [
    {
     "data": {
      "text/plain": [
       "array([0, 1, 1, 1, 0, 0, 0, 0, 0, 0, 1, 0])"
      ]
     },
     "execution_count": 63,
     "metadata": {},
     "output_type": "execute_result"
    }
   ],
   "source": [
    "from sklearn.cluster import DBSCAN\n",
    "\n",
    "clusterer = DBSCAN(eps=epsilon, min_samples=5)\n",
    "labels = clusterer.fit_predict(X_2d)\n",
    "labels"
   ]
  }
 ],
 "metadata": {
  "kernelspec": {
   "display_name": "venv",
   "language": "python",
   "name": "python3"
  },
  "language_info": {
   "codemirror_mode": {
    "name": "ipython",
    "version": 3
   },
   "file_extension": ".py",
   "mimetype": "text/x-python",
   "name": "python",
   "nbconvert_exporter": "python",
   "pygments_lexer": "ipython3",
   "version": "3.10.16"
  }
 },
 "nbformat": 4,
 "nbformat_minor": 2
}
