{
 "cells": [
  {
   "cell_type": "code",
   "execution_count": 3,
   "metadata": {},
   "outputs": [],
   "source": [
    "\n",
    "import tensorflow as tf\n",
    "import tensorflow_hub as hub\n",
    "import librosa\n",
    "import numpy as np\n",
    "\n",
    "# Load the YAMNet model\n",
    "yamnet_model = hub.load('https://tfhub.dev/google/yamnet/1')"
   ]
  },
  {
   "cell_type": "code",
   "execution_count": 4,
   "metadata": {},
   "outputs": [],
   "source": [
    "def extract_yamnet_embedding(audio_path):\n",
    "    y, sr = librosa.load(audio_path, sr=16000, mono=True)\n",
    "    waveform = tf.convert_to_tensor(y, dtype=tf.float32)\n",
    "\n",
    "    scores, embeddings, spectrogram = yamnet_model(waveform)\n",
    "    # Use mean of embeddings across time as feature\n",
    "    embedding_mean = tf.reduce_mean(embeddings, axis=0).numpy()\n",
    "    return embedding_mean"
   ]
  },
  {
   "cell_type": "code",
   "execution_count": 5,
   "metadata": {},
   "outputs": [],
   "source": [
    "audios = [\n",
    "    'output_audios/audio1.wav',\n",
    "    # 'output_audios/audio2.wav',\n",
    "    # 'output_audios/audio3.wav',\n",
    "    'output_audios/audio4.wav',\n",
    "    # 'output_audios/audio6.wav',\n",
    "    # 'output_audios/audio7.wav',\n",
    "    # 'output_audios/audio8.wav',\n",
    "    # 'output_audios/audio9.wav',\n",
    "    # 'output_audios/audio10.wav',\n",
    "    # 'output_audios/audio11.wav',\n",
    "    # 'output_audios/audio12.wav',\n",
    "    # 'output_audios/audio13.wav',\n",
    "    # 'output_audios/audio14.wav',\n",
    "    # 'output_audios/audio15.wav',\n",
    "    # 'output_audios/audio16.wav',\n",
    "    # 'output_audios/audio17.wav',\n",
    "    # 'output_audios/9 Apr, 3.21 pm.wav',\n",
    "    # 'output_audios/New recording 21.wav',\n",
    "]\n",
    "X = [extract_yamnet_embedding(audio) for audio in audios]"
   ]
  },
  {
   "cell_type": "code",
   "execution_count": 8,
   "metadata": {},
   "outputs": [
    {
     "data": {
      "text/plain": [
       "(1024,)"
      ]
     },
     "execution_count": 8,
     "metadata": {},
     "output_type": "execute_result"
    }
   ],
   "source": [
    "X[0].shape"
   ]
  },
  {
   "cell_type": "code",
   "execution_count": null,
   "metadata": {},
   "outputs": [],
   "source": []
  }
 ],
 "metadata": {
  "kernelspec": {
   "display_name": "venv",
   "language": "python",
   "name": "python3"
  },
  "language_info": {
   "codemirror_mode": {
    "name": "ipython",
    "version": 3
   },
   "file_extension": ".py",
   "mimetype": "text/x-python",
   "name": "python",
   "nbconvert_exporter": "python",
   "pygments_lexer": "ipython3",
   "version": "3.10.16"
  }
 },
 "nbformat": 4,
 "nbformat_minor": 2
}
