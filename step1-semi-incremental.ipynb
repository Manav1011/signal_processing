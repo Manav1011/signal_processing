{
 "cells": [
  {
   "cell_type": "code",
   "execution_count": 139,
   "metadata": {},
   "outputs": [],
   "source": [
    "# Audio preprocessing\n",
    "import librosa\n",
    "import soundfile as sf\n",
    "import numpy as np\n",
    "from pydub import AudioSegment\n",
    "import seaborn as sns\n",
    "from sklearn.cluster import DBSCAN\n",
    "from sklearn.preprocessing import StandardScaler\n",
    "from hdbscan import approximate_predict"
   ]
  },
  {
   "cell_type": "code",
   "execution_count": 140,
   "metadata": {},
   "outputs": [],
   "source": [
    "def load_audio(file_path, target_sr=16000):\n",
    "    \"\"\"\n",
    "    Load a WAV audio file and resample it to a fixed sampling rate.\n",
    "    \n",
    "    Args:\n",
    "        file_path (str): Path to the audio file.\n",
    "        target_sr (int): Target sampling rate (default: 16kHz).\n",
    "    \n",
    "    Returns:\n",
    "        y (numpy array): Audio waveform.\n",
    "        sr (int): Sampling rate of the loaded audio.\n",
    "    \"\"\"\n",
    "    y, sr = librosa.load(file_path, sr=target_sr)\n",
    "    return y, sr"
   ]
  },
  {
   "cell_type": "code",
   "execution_count": 141,
   "metadata": {},
   "outputs": [],
   "source": [
    "def rms_normalization(audio, target_rms=0.1):\n",
    "    \"\"\"\n",
    "    Normalize the audio signal to a fixed RMS (Root Mean Square) value.\n",
    "\n",
    "    Args:\n",
    "        audio (numpy array): Input audio waveform.\n",
    "        target_rms (float): Target RMS level.\n",
    "\n",
    "    Returns:\n",
    "        y_norm (numpy array): RMS-normalized audio waveform.\n",
    "    \"\"\"\n",
    "    rms = np.sqrt(np.mean(audio**2))  # Compute current RMS\n",
    "    scaling_factor = target_rms / (rms + 1e-10)  # Avoid division by zero\n",
    "    y_norm = audio * scaling_factor  # Scale audio to match target RMS\n",
    "\n",
    "    return y_norm"
   ]
  },
  {
   "cell_type": "code",
   "execution_count": 142,
   "metadata": {},
   "outputs": [],
   "source": [
    "def calculate_features(audio_path):\n",
    "    y, sr = load_audio(audio_path)  # Load and resample\n",
    "    y_norm = rms_normalization(y)  # Normalize volume\n",
    "    features = {}\n",
    "    # --- 1. MFCCs ---\n",
    "    mfccs = librosa.feature.mfcc(y=y_norm, sr=sr, n_mfcc=13)\n",
    "    mfccs_mean = np.mean(mfccs, axis=1)\n",
    "    features['mfccs'] = mfccs_mean\n",
    "    \n",
    "    # --- 2. Spectral Entropy ---\n",
    "    spec = np.abs(librosa.stft(y_norm, n_fft=2048))\n",
    "    col_sums = np.sum(spec, axis=0, keepdims=True)\n",
    "\n",
    "    # Prevent division by zero\n",
    "    col_sums[col_sums == 0] = 1e-10\n",
    "    prob_dist = spec / col_sums\n",
    "\n",
    "    entropy = -np.sum(prob_dist * np.log2(prob_dist + 1e-10), axis=0)\n",
    "    features['spectral_entropy'] = np.mean(entropy)\n",
    "\n",
    "    \n",
    "    # --- 3. Zero-Crossing Rate ---\n",
    "    zcr = librosa.feature.zero_crossing_rate(y_norm)\n",
    "    features['zcr'] = np.mean(zcr)\n",
    "    \n",
    "    # --- 4. Spectral Centroid ---\n",
    "    centroid = librosa.feature.spectral_centroid(y=y_norm, sr=sr)\n",
    "    features['spectral_centroid'] = np.mean(centroid)\n",
    "    \n",
    "    # ✅ 5. Spectral Bandwidth\n",
    "    spectral_bandwidth = librosa.feature.spectral_bandwidth(y=y_norm, sr=sr)\n",
    "    bandwidth_mean = np.mean(spectral_bandwidth)\n",
    "    features['spectral_bandwith'] = bandwidth_mean\n",
    "    \n",
    "     # Combine into a single feature vector\n",
    "    feature_vector = np.concatenate([\n",
    "        features['mfccs'],\n",
    "        [features['spectral_entropy']],\n",
    "        [features['zcr']],\n",
    "        [features['spectral_centroid']],\n",
    "        [features['spectral_bandwith']]\n",
    "    ])\n",
    "    return feature_vector"
   ]
  },
  {
   "cell_type": "code",
   "execution_count": 143,
   "metadata": {},
   "outputs": [],
   "source": [
    "audios = [\n",
    "    \"splits/teacher1.wav\",\n",
    "    \"splits/teacher2.wav\",\n",
    "    \"splits/teacher3.wav\",\n",
    "    \"splits/teacher4.wav\",\n",
    "    \"splits/teacher5.wav\",\n",
    "    \"splits/teacher6.wav\",\n",
    "    \"splits/teacher7.wav\",\n",
    "    \"splits/teacher8.wav\",\n",
    "    \"splits/teacher9.wav\",\n",
    "    \"splits/teacher10.wav\",\n",
    "]\n",
    "X = [calculate_features(audio) for audio in audios]"
   ]
  },
  {
   "cell_type": "code",
   "execution_count": 144,
   "metadata": {},
   "outputs": [
    {
     "data": {
      "text/plain": [
       "array([[-1.006491  , -0.50147258, -1.46932404,  0.75336248,  1.64554151,\n",
       "        -0.22230088, -0.02107143, -0.02746118,  1.1904674 , -2.23994317,\n",
       "        -0.59600345, -0.2381343 ,  1.22863925, -0.37039365, -0.13274694,\n",
       "         0.04630491, -0.26772229],\n",
       "       [-0.58443724,  1.08635409, -1.45555961, -1.19895759,  0.72297631,\n",
       "        -1.13981611, -1.5127799 , -1.95795635,  0.92569167,  0.88900726,\n",
       "        -0.70539343, -2.54708864, -1.34191501, -0.61388658, -0.38043304,\n",
       "        -0.84624053, -1.17480429],\n",
       "       [ 0.03282704,  0.13459442,  0.02375402, -1.29963568, -0.64672186,\n",
       "         0.16611942,  0.23778778,  0.57275923, -2.25543839, -0.67106146,\n",
       "        -1.1838341 ,  0.35164004,  0.55609854,  0.02848032, -0.31317345,\n",
       "        -0.14249836,  0.20243049],\n",
       "       [-0.04885218, -1.20724447,  1.7222787 ,  0.53919866, -1.18341899,\n",
       "         0.17280381,  0.74916764,  0.97236165,  0.83721927, -0.65093957,\n",
       "        -0.4620729 , -0.89227266, -1.31505754,  0.42664748,  1.01600412,\n",
       "         1.14113365,  1.04102536],\n",
       "       [-0.53507605,  0.63154334,  0.7794717 ,  0.2130676 , -0.86715926,\n",
       "        -1.29642032, -0.20682487,  0.55805481,  0.65646063,  1.00138009,\n",
       "         1.96561128,  0.40837582, -1.16359015, -0.8363465 , -0.85722879,\n",
       "        -0.71882624, -0.50695469],\n",
       "       [-0.71499237,  1.13560718, -0.1056278 ,  0.84390769,  0.30193993,\n",
       "        -1.04211112, -1.98207239, -0.59751036, -0.00629433,  0.73463203,\n",
       "        -0.39891263,  0.47891716,  0.07805241, -1.22534146, -0.87089423,\n",
       "        -1.10853524, -1.31770987],\n",
       "       [ 0.19060214,  0.0293508 ,  0.89650593,  0.72940059, -0.0163033 ,\n",
       "         0.39379239,  0.16936762, -0.28753034, -0.05974562,  0.34956625,\n",
       "        -0.42600876, -0.05927516,  1.01322917, -0.21452056, -0.5954502 ,\n",
       "        -0.15446036,  0.08864192],\n",
       "       [-0.07706766,  0.8760236 , -0.76882598, -0.31082258, -0.53970495,\n",
       "        -0.29730271,  0.6016529 , -1.06337782, -0.95534234,  0.98676435,\n",
       "         1.82331084,  0.66202936,  0.52234644, -0.4453317 , -0.59203384,\n",
       "        -0.79883553, -0.87184914],\n",
       "       [-0.0493113 , -0.03183692,  0.76783855, -1.6501191 ,  1.64165328,\n",
       "         1.27701926,  1.61525004,  0.09845688,  0.35082276,  0.34809526,\n",
       "        -0.04946539,  0.99792046,  1.1864059 ,  0.73812182,  0.18113114,\n",
       "         0.23778596,  0.80237064],\n",
       "       [ 2.79279862, -2.15291944, -0.39051149,  1.38059794, -1.05880269,\n",
       "         1.98821627,  0.3495226 ,  1.73220347, -0.68384104, -0.74750104,\n",
       "         0.03276853,  0.83788793, -0.76420902,  2.51257084,  2.54482524,\n",
       "         2.34417174,  2.00457188]])"
      ]
     },
     "execution_count": 144,
     "metadata": {},
     "output_type": "execute_result"
    }
   ],
   "source": [
    "scaler = StandardScaler()\n",
    "X_scaled = scaler.fit_transform(X)\n",
    "X_scaled"
   ]
  },
  {
   "cell_type": "code",
   "execution_count": 145,
   "metadata": {},
   "outputs": [
    {
     "data": {
      "text/plain": [
       "['scaler.pkl']"
      ]
     },
     "execution_count": 145,
     "metadata": {},
     "output_type": "execute_result"
    }
   ],
   "source": [
    "import joblib\n",
    "joblib.dump(scaler, 'scaler.pkl')"
   ]
  },
  {
   "cell_type": "code",
   "execution_count": 146,
   "metadata": {},
   "outputs": [
    {
     "data": {
      "image/png": "[encoded data removed]",
      "text/plain": [
       "<Figure size 600x400 with 1 Axes>"
      ]
     },
     "metadata": {},
     "output_type": "display_data"
    },
    {
     "name": "stdout",
     "output_type": "stream",
     "text": [
      "📉 Number of components to retain 95% variance: 7\n"
     ]
    }
   ],
   "source": [
    "from sklearn.decomposition import PCA\n",
    "import matplotlib.pyplot as plt\n",
    "import numpy as np\n",
    "\n",
    "# Assume X_scaled is your scaled (standardized) 1024-dim embeddings\n",
    "pca = PCA()\n",
    "X_pca = pca.fit_transform(X_scaled)\n",
    "\n",
    "# Plot explained variance\n",
    "plt.figure(figsize=(6, 4))\n",
    "plt.plot(np.cumsum(pca.explained_variance_ratio_), marker='o')\n",
    "plt.xlabel('Number of Components')\n",
    "plt.ylabel('Cumulative Explained Variance')\n",
    "plt.title('PCA - Explained Variance')\n",
    "plt.grid(True)\n",
    "plt.axhline(y=0.95, color='r', linestyle='--', label='95% Variance')\n",
    "plt.legend()\n",
    "plt.show()\n",
    "\n",
    "# Get number of components to retain 95% variance\n",
    "n_components_95 = np.argmax(np.cumsum(pca.explained_variance_ratio_) >= 0.95) + 1\n",
    "print(f\"📉 Number of components to retain 95% variance: {n_components_95}\")"
   ]
  },
  {
   "cell_type": "code",
   "execution_count": 147,
   "metadata": {},
   "outputs": [],
   "source": [
    "from sklearn.decomposition import PCA\n",
    "pca = PCA(n_components=7)\n",
    "X_pca = pca.fit_transform(X_scaled)"
   ]
  },
  {
   "cell_type": "code",
   "execution_count": 148,
   "metadata": {},
   "outputs": [
    {
     "data": {
      "text/plain": [
       "['pca_model.pkl']"
      ]
     },
     "execution_count": 148,
     "metadata": {},
     "output_type": "execute_result"
    }
   ],
   "source": [
    "joblib.dump(pca, 'pca_model.pkl')"
   ]
  },
  {
   "cell_type": "code",
   "execution_count": 286,
   "metadata": {},
   "outputs": [
    {
     "name": "stdout",
     "output_type": "stream",
     "text": [
      "[-1 -1  0 -1  0  0  0  0  0 -1]\n"
     ]
    },
    {
     "name": "stderr",
     "output_type": "stream",
     "text": [
      "/home/web-h-054/Documents/signal_processing/venv/lib/python3.10/site-packages/sklearn/utils/deprecation.py:151: FutureWarning: 'force_all_finite' was renamed to 'ensure_all_finite' in 1.6 and will be removed in 1.8.\n",
      "  warnings.warn(\n",
      "/home/web-h-054/Documents/signal_processing/venv/lib/python3.10/site-packages/sklearn/utils/deprecation.py:151: FutureWarning: 'force_all_finite' was renamed to 'ensure_all_finite' in 1.6 and will be removed in 1.8.\n",
      "  warnings.warn(\n"
     ]
    }
   ],
   "source": [
    "import hdbscan\n",
    "from hdbscan import prediction\n",
    "\n",
    "clusterer = hdbscan.HDBSCAN(min_cluster_size=2,min_samples=1,allow_single_cluster=True, prediction_data=True,cluster_selection_method='eom')\n",
    "labels = clusterer.fit_predict(X_pca)\n",
    "print(labels)"
   ]
  },
  {
   "cell_type": "code",
   "execution_count": 287,
   "metadata": {},
   "outputs": [],
   "source": [
    "def predict_and_check_outlier(audio_features, scaler, pca_model, clusterer, threshold=0.4):\n",
    "    X_scaled = scaler.transform([audio_features])\n",
    "    X_pca = pca_model.transform(X_scaled)\n",
    "    \n",
    "    label, strength = approximate_predict(clusterer, X_pca)\n",
    "    label, strength = label[0], strength[0]\n",
    "\n",
    "    is_outlier = strength < threshold\n",
    "    return label, strength, is_outlier"
   ]
  },
  {
   "cell_type": "code",
   "execution_count": 288,
   "metadata": {},
   "outputs": [
    {
     "data": {
      "text/plain": [
       "(np.int32(0), np.float64(0.8277871772524594), np.False_)"
      ]
     },
     "execution_count": 288,
     "metadata": {},
     "output_type": "execute_result"
    }
   ],
   "source": [
    "new_features = calculate_features(\"splits/teacher2.wav\")\n",
    "label = predict_and_check_outlier(new_features,scaler,pca,clusterer)\n",
    "label"
   ]
  },
  {
   "cell_type": "code",
   "execution_count": null,
   "metadata": {},
   "outputs": [],
   "source": []
  }
 ],
 "metadata": {
  "kernelspec": {
   "display_name": "venv",
   "language": "python",
   "name": "python3"
  },
  "language_info": {
   "codemirror_mode": {
    "name": "ipython",
    "version": 3
   },
   "file_extension": ".py",
   "mimetype": "text/x-python",
   "name": "python",
   "nbconvert_exporter": "python",
   "pygments_lexer": "ipython3",
   "version": "3.10.16"
  }
 },
 "nbformat": 4,
 "nbformat_minor": 2
}
