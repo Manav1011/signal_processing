{
 "cells": [
  {
   "cell_type": "code",
   "execution_count": 5,
   "metadata": {},
   "outputs": [],
   "source": [
    "import librosa\n",
    "import soundfile as sf\n",
    "import os\n",
    "\n",
    "def split_wav_into_parts(input_path, num_parts=10, output_dir='splits', sr=16000):\n",
    "    y, _ = librosa.load(input_path, sr=sr)\n",
    "    total_samples = len(y)\n",
    "    samples_per_part = total_samples // num_parts\n",
    "\n",
    "    os.makedirs(output_dir, exist_ok=True)\n",
    "\n",
    "    for i in range(num_parts):\n",
    "        start = i * samples_per_part\n",
    "        end = (i + 1) * samples_per_part if i < num_parts - 1 else total_samples\n",
    "        part = y[start:end]\n",
    "        output_file = os.path.join(output_dir, f'teacher{i+1}.wav')\n",
    "        sf.write(output_file, part, sr)\n",
    "\n",
    "    print(f\"✅ Split into {num_parts} parts saved to: {output_dir}\")"
   ]
  },
  {
   "cell_type": "code",
   "execution_count": 6,
   "metadata": {},
   "outputs": [
    {
     "name": "stdout",
     "output_type": "stream",
     "text": [
      "✅ Split into 10 parts saved to: splits\n"
     ]
    }
   ],
   "source": [
    "split_wav_into_parts('teacher.wav', num_parts=10)"
   ]
  },
  {
   "cell_type": "code",
   "execution_count": null,
   "metadata": {},
   "outputs": [],
   "source": []
  },
  {
   "cell_type": "code",
   "execution_count": null,
   "metadata": {},
   "outputs": [],
   "source": []
  }
 ],
 "metadata": {
  "kernelspec": {
   "display_name": "venv",
   "language": "python",
   "name": "python3"
  },
  "language_info": {
   "codemirror_mode": {
    "name": "ipython",
    "version": 3
   },
   "file_extension": ".py",
   "mimetype": "text/x-python",
   "name": "python",
   "nbconvert_exporter": "python",
   "pygments_lexer": "ipython3",
   "version": "3.10.16"
  }
 },
 "nbformat": 4,
 "nbformat_minor": 2
}
