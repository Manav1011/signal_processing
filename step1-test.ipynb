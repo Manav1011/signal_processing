{
 "cells": [
  {
   "cell_type": "code",
   "execution_count": 12,
   "metadata": {},
   "outputs": [],
   "source": [
    "# Audio preprocessing\n",
    "import librosa\n",
    "import soundfile as sf\n",
    "import numpy as np\n",
    "from pydub import AudioSegment\n",
    "import seaborn as sns\n",
    "from sklearn.cluster import DBSCAN\n",
    "from sklearn.preprocessing import StandardScaler"
   ]
  },
  {
   "cell_type": "code",
   "execution_count": 2,
   "metadata": {},
   "outputs": [],
   "source": [
    "def load_audio(file_path, target_sr=16000):\n",
    "    \"\"\"\n",
    "    Load a WAV audio file and resample it to a fixed sampling rate.\n",
    "    \n",
    "    Args:\n",
    "        file_path (str): Path to the audio file.\n",
    "        target_sr (int): Target sampling rate (default: 16kHz).\n",
    "    \n",
    "    Returns:\n",
    "        y (numpy array): Audio waveform.\n",
    "        sr (int): Sampling rate of the loaded audio.\n",
    "    \"\"\"\n",
    "    y, sr = librosa.load(file_path, sr=target_sr)\n",
    "    return y, sr"
   ]
  },
  {
   "cell_type": "code",
   "execution_count": 3,
   "metadata": {},
   "outputs": [],
   "source": [
    "def rms_normalization(audio, target_rms=0.1):\n",
    "    \"\"\"\n",
    "    Normalize the audio signal to a fixed RMS (Root Mean Square) value.\n",
    "\n",
    "    Args:\n",
    "        audio (numpy array): Input audio waveform.\n",
    "        target_rms (float): Target RMS level.\n",
    "\n",
    "    Returns:\n",
    "        y_norm (numpy array): RMS-normalized audio waveform.\n",
    "    \"\"\"\n",
    "    rms = np.sqrt(np.mean(audio**2))  # Compute current RMS\n",
    "    scaling_factor = target_rms / (rms + 1e-10)  # Avoid division by zero\n",
    "    y_norm = audio * scaling_factor  # Scale audio to match target RMS\n",
    "\n",
    "    return y_norm"
   ]
  },
  {
   "cell_type": "code",
   "execution_count": 7,
   "metadata": {},
   "outputs": [],
   "source": [
    "def calculate_features(audio_path):\n",
    "    y, sr = load_audio(audio_path)  # Load and resample\n",
    "    y_norm = rms_normalization(y)  # Normalize volume\n",
    "    features = {}\n",
    "    # --- 1. MFCCs ---\n",
    "    mfccs = librosa.feature.mfcc(y=y_norm, sr=sr, n_mfcc=13)\n",
    "    mfccs_mean = np.mean(mfccs, axis=1)\n",
    "    features['mfccs'] = mfccs_mean\n",
    "    \n",
    "    # --- 2. Spectral Entropy ---\n",
    "    spec = np.abs(librosa.stft(y_norm, n_fft=2048))\n",
    "    col_sums = np.sum(spec, axis=0, keepdims=True)\n",
    "\n",
    "    # Prevent division by zero\n",
    "    col_sums[col_sums == 0] = 1e-10\n",
    "    prob_dist = spec / col_sums\n",
    "\n",
    "    entropy = -np.sum(prob_dist * np.log2(prob_dist + 1e-10), axis=0)\n",
    "    features['spectral_entropy'] = np.mean(entropy)\n",
    "\n",
    "    \n",
    "    # --- 3. Zero-Crossing Rate ---\n",
    "    zcr = librosa.feature.zero_crossing_rate(y_norm)\n",
    "    features['zcr'] = np.mean(zcr)\n",
    "    \n",
    "    # --- 4. Spectral Centroid ---\n",
    "    centroid = librosa.feature.spectral_centroid(y=y_norm, sr=sr)\n",
    "    features['spectral_centroid'] = np.mean(centroid)\n",
    "    \n",
    "    # ✅ 5. Spectral Bandwidth\n",
    "    spectral_bandwidth = librosa.feature.spectral_bandwidth(y=y_norm, sr=sr)\n",
    "    bandwidth_mean = np.mean(spectral_bandwidth)\n",
    "    features['spectral_bandwith'] = bandwidth_mean\n",
    "    \n",
    "     # Combine into a single feature vector\n",
    "    feature_vector = np.concatenate([\n",
    "        features['mfccs'],\n",
    "        [features['spectral_entropy']],\n",
    "        [features['zcr']],\n",
    "        [features['spectral_centroid']],\n",
    "        [features['spectral_bandwith']]\n",
    "    ])\n",
    "    return feature_vector"
   ]
  },
  {
   "cell_type": "code",
   "execution_count": 8,
   "metadata": {},
   "outputs": [],
   "source": [
    "audios = [\n",
    "    'output_audios/audio1.wav',\n",
    "    'output_audios/audio2.wav',\n",
    "    'output_audios/audio3.wav',\n",
    "    'output_audios/audio4.wav',\n",
    "    'output_audios/audio6.wav',\n",
    "    'output_audios/audio7.wav',\n",
    "    'output_audios/audio8.wav',\n",
    "    'output_audios/audio9.wav',\n",
    "    'output_audios/audio10.wav',\n",
    "    'output_audios/audio11.wav',\n",
    "    'output_audios/audio12.wav',\n",
    "    'output_audios/audio13.wav',\n",
    "    'output_audios/audio14.wav',\n",
    "    'output_audios/audio15.wav',\n",
    "    'output_audios/audio16.wav',\n",
    "    'output_audios/audio17.wav',\n",
    "    'output_audios/9 Apr, 3.21 pm.wav',\n",
    "    'output_audios/New recording 21.wav',\n",
    "]\n",
    "X = [calculate_features(audio) for audio in audios]"
   ]
  },
  {
   "cell_type": "code",
   "execution_count": 9,
   "metadata": {},
   "outputs": [
    {
     "name": "stdout",
     "output_type": "stream",
     "text": [
      "[array([-1.15282898e+02,  1.33760696e+02, -2.47462921e+01,  4.56455803e+01,\n",
      "       -2.85112019e+01,  1.40439081e+01, -1.89290295e+01,  2.23694038e+01,\n",
      "       -1.23675194e+01,  7.94238997e+00, -1.11199665e+01,  5.90307570e+00,\n",
      "       -3.29176235e+00,  8.24116039e+00,  1.03917321e-01,  1.32087362e+03,\n",
      "        1.37870095e+03]), array([-1.42581100e+02,  1.51977066e+02, -7.94221725e+01,  3.86721725e+01,\n",
      "       -3.52597351e+01, -1.77924156e+01, -9.13916969e+00, -2.54057903e+01,\n",
      "       -5.53045416e+00, -1.61189728e+01, -7.76212549e+00, -1.53763056e+01,\n",
      "       -1.14548378e+01,  8.15157223e+00,  1.07477232e-01,  1.30460807e+03,\n",
      "        1.08008023e+03]), array([-9.32346649e+01,  6.71615219e+01, -4.60623970e+01,  9.22339916e+00,\n",
      "       -8.21910095e+00, -1.41167796e+00,  4.60120678e+00, -6.97902441e-01,\n",
      "       -1.12732925e+01,  4.84043550e+00, -8.19958591e+00, -3.59120011e+00,\n",
      "       -1.75857043e+00,  8.57074928e+00,  2.09018441e-01,  2.05595671e+03,\n",
      "        1.59471832e+03]), array([-6.04351997e+01,  7.60707855e+01, -1.28124743e+01,  2.80635624e+01,\n",
      "       -6.79803014e-01,  1.96309929e+01,  8.18261433e+00,  5.49435425e+00,\n",
      "        2.70960498e+00,  1.09992361e+01, -6.31808662e+00,  5.87582922e+00,\n",
      "       -6.27215719e+00,  8.86906433e+00,  1.67680607e-01,  1.97766369e+03,\n",
      "        1.86382325e+03]), array([-4.83438072e+01,  8.35646591e+01, -1.46088660e+00,  2.76663246e+01,\n",
      "       -3.58198094e+00,  1.87362633e+01, -6.41038609e+00,  2.27095070e+01,\n",
      "       -1.35589867e+01,  1.81359463e+01, -1.21156206e+01,  1.20807066e+01,\n",
      "       -1.23104134e+01,  9.04634571e+00,  1.66126340e-01,  2.10278850e+03,\n",
      "        2.03562443e+03]), array([-1.37804535e+02,  1.24559708e+02,  2.43066025e+01,  7.38958693e+00,\n",
      "       -7.15614462e+00, -3.07850063e-01, -7.06734562e+00, -4.93400478e+00,\n",
      "       -4.81554222e+00, -1.66395855e+00, -9.47050285e+00, -8.50193501e-01,\n",
      "       -9.91562080e+00,  8.03927898e+00,  6.19489397e-02,  1.19935144e+03,\n",
      "        1.68063682e+03]), array([-1.37405914e+02,  1.27314880e+02,  2.19415359e+01,  7.61484480e+00,\n",
      "       -3.94010210e+00, -8.70650005e+00, -1.11477652e+01, -5.08883762e+00,\n",
      "       -7.77033234e+00, -2.49705815e+00, -7.22984695e+00, -2.82352591e+00,\n",
      "       -9.55687523e+00,  7.95884132e+00,  6.30766369e-02,  1.19075338e+03,\n",
      "        1.64779825e+03]), array([-1.35298492e+02,  1.28863770e+02,  1.32399988e+01,  4.96403170e+00,\n",
      "       -6.07448244e+00, -1.83073139e+00, -1.29967766e+01, -1.05302849e+01,\n",
      "       -4.74807835e+00, -5.91116476e+00, -1.11744671e+01, -1.30710125e+00,\n",
      "       -1.35639772e+01,  7.99128771e+00,  6.55645461e-02,  1.17928427e+03,\n",
      "        1.59191632e+03]), array([-1.11052437e+02,  1.24162354e+02,  1.68666801e+01,  2.47441983e+00,\n",
      "       -6.57063913e+00, -2.16245341e+00, -1.18589916e+01, -5.16037035e+00,\n",
      "       -7.27038479e+00, -3.86630511e+00, -9.41516018e+00, -3.11366153e+00,\n",
      "       -9.71446323e+00,  8.17321968e+00,  6.79687500e-02,  1.25353593e+03,\n",
      "        1.68629198e+03]), array([-1.11602974e+02,  1.23647324e+02,  1.56856403e+01,  1.59465480e+00,\n",
      "       -6.27474213e+00, -9.01589680e+00, -1.48649416e+01, -6.59446478e+00,\n",
      "       -9.87407970e+00, -4.47959757e+00, -9.33893585e+00, -2.55967498e+00,\n",
      "       -1.13112583e+01,  8.18258095e+00,  7.38560268e-02,  1.28724874e+03,\n",
      "        1.69032082e+03]), array([-1.08493690e+02,  1.23059471e+02,  1.35646276e+01,  8.38962853e-01,\n",
      "       -8.71627235e+00, -3.62063742e+00, -1.23373690e+01, -8.76966667e+00,\n",
      "       -9.47023010e+00, -3.73163366e+00, -9.86244869e+00, -2.52796197e+00,\n",
      "       -1.12837133e+01,  8.21362686e+00,  7.49488467e-02,  1.29189359e+03,\n",
      "        1.68151234e+03]), array([-1.07484039e+02,  1.24606155e+02,  2.02921581e+01,  3.91514659e+00,\n",
      "       -1.08504591e+01, -2.97695422e+00, -1.21218615e+01, -4.12022829e+00,\n",
      "       -6.92489529e+00, -2.39107490e+00, -8.83661079e+00, -3.19000959e+00,\n",
      "       -9.61858654e+00,  8.18273926e+00,  7.03101749e-02,  1.26738393e+03,\n",
      "        1.68938501e+03]), array([-1.15839752e+02,  1.25928383e+02,  2.08707752e+01,  6.86519480e+00,\n",
      "       -8.30177402e+00, -1.89559758e+00, -1.31635551e+01, -5.83525610e+00,\n",
      "       -8.06264687e+00, -4.63777161e+00, -9.53856564e+00, -3.48276854e+00,\n",
      "       -1.12872906e+01,  8.09602070e+00,  6.47553943e-02,  1.21455887e+03,\n",
      "        1.66314279e+03]), array([-1.19646965e+02,  1.28322083e+02,  1.14607363e+01,  1.20180731e+01,\n",
      "       -1.45986719e+01,  1.01395816e-01, -8.40791702e+00, -4.73374796e+00,\n",
      "       -8.81165791e+00, -2.91613007e+00, -9.22829628e+00, -3.77478552e+00,\n",
      "       -1.27316666e+01,  8.06859207e+00,  6.10770089e-02,  1.15538072e+03,\n",
      "        1.55073962e+03]), array([-1.27963081e+02,  1.27723175e+02,  1.17836475e+01,  3.18434858e+00,\n",
      "       -8.77188683e+00, -7.06662321e+00, -1.31322203e+01, -7.59699535e+00,\n",
      "       -7.32853413e+00, -2.48058152e+00, -1.01241932e+01, -1.39184773e+00,\n",
      "       -9.33470821e+00,  8.12440872e+00,  6.99943597e-02,  1.21693958e+03,\n",
      "        1.60266548e+03]), array([-1.37952362e+02,  1.28108643e+02,  1.13417130e+01,  4.10153008e+00,\n",
      "       -7.07179832e+00, -7.74980831e+00, -1.34677525e+01, -7.87688923e+00,\n",
      "       -6.82683086e+00, -3.13361645e+00, -1.01493788e+01, -1.45693660e+00,\n",
      "       -9.80183029e+00,  8.11835957e+00,  6.89057850e-02,  1.20715109e+03,\n",
      "        1.59713414e+03]), array([-8.70221252e+01,  1.09911591e+02, -2.66200691e-01,  2.48666134e+01,\n",
      "       -7.44563699e-01,  1.28284445e+01,  8.96159768e-01,  6.35347509e+00,\n",
      "       -2.92397428e+00,  1.04327087e+01, -8.36988735e+00,  9.11177921e+00,\n",
      "       -1.10229359e+01,  8.50581264e+00,  8.34219244e-02,  1.46213067e+03,\n",
      "        1.72459352e+03]), array([-9.73821411e+01,  1.07146172e+02,  1.30201197e+01,  1.42306747e+01,\n",
      "       -3.44799256e+00,  1.27013836e+01, -5.40963459e+00,  7.87559748e+00,\n",
      "       -1.11469021e+01,  6.52227592e+00, -9.02980137e+00,  2.65948153e+00,\n",
      "       -9.78843498e+00,  8.41811848e+00,  7.85968559e-02,  1.49827503e+03,\n",
      "        1.80995618e+03])]\n"
     ]
    }
   ],
   "source": [
    "print(X)"
   ]
  },
  {
   "cell_type": "code",
   "execution_count": 10,
   "metadata": {},
   "outputs": [],
   "source": [
    "X = np.array(X)"
   ]
  },
  {
   "cell_type": "code",
   "execution_count": 13,
   "metadata": {},
   "outputs": [
    {
     "data": {
      "text/plain": [
       "array([[-0.17482072,  0.77559854, -0.99996861,  2.43671443, -2.20472672,\n",
       "         1.30467502, -1.49831771,  2.16868705, -1.30646695,  0.98427131,\n",
       "        -1.31960905,  1.09603943,  2.14206362, -0.11700067,  0.27754828,\n",
       "        -0.25890248, -1.38836231],\n",
       "       [-1.2450281 ,  1.64712369, -3.07166999,  1.90781205, -2.98228927,\n",
       "        -1.81983629, -0.0629661 , -2.11671504,  0.54971014, -2.10664283,\n",
       "         1.10644261, -2.52085608, -0.60039582, -0.42585037,  0.3614919 ,\n",
       "        -0.31266035, -2.95865329],\n",
       "       [ 0.68956518, -2.41070351, -1.8076484 , -0.32574821,  0.13331877,\n",
       "        -0.21218207,  1.95159509,  0.09956553, -1.00939815,  0.58579534,\n",
       "         0.79037596, -0.51772006,  2.65715339,  1.0192368 ,  2.75585982,\n",
       "         2.17055786, -0.25243936],\n",
       "       [ 1.9754458 , -1.98445791, -0.54778921,  1.10319551,  1.00199282,\n",
       "         1.8530081 ,  2.4766873 ,  0.6550067 ,  2.7867824 ,  1.37695268,\n",
       "         2.14976565,  1.0914083 ,  1.14077286,  2.04765961,  1.78110303,\n",
       "         1.91179826,  1.16264346],\n",
       "       [ 2.44948058, -1.62592877, -0.11767085,  1.07306677,  0.66760536,\n",
       "         1.76519668,  0.33711767,  2.19919407, -1.62993531,  2.29373195,\n",
       "        -2.03897256,  2.1460627 , -0.88783421,  2.65882628,  1.744453  ,\n",
       "         2.32533759,  2.06605644],\n",
       "       [-1.05776611,  0.33539594,  0.85867452, -0.46483482,  0.25579205,\n",
       "        -0.10384913,  0.24079679, -0.28040994,  0.74379972, -0.24975682,\n",
       "        -0.1278659 , -0.05182614, -0.08328187, -0.81297443, -0.712077  ,\n",
       "        -0.66053504,  0.19936129],\n",
       "       [-1.04213846,  0.46721158,  0.76906075, -0.44775   ,  0.62634283,\n",
       "        -0.92811756, -0.35745864, -0.29429834, -0.05838858, -0.3567765 ,\n",
       "         1.49101568, -0.38723707,  0.03724197, -1.09027833, -0.68548561,\n",
       "        -0.68895177,  0.02668037],\n",
       "       [-0.95951842,  0.54131503,  0.43935437, -0.64880255,  0.38042062,\n",
       "        -0.25330922, -0.62855359, -0.78239242,  0.76211531, -0.79535143,\n",
       "        -1.35898591, -0.12948758, -1.3089804 , -0.97842141, -0.62682007,\n",
       "        -0.72685733, -0.26717361],\n",
       "       [-0.00896839,  0.31638534,  0.57677147, -0.83762868,  0.32325369,\n",
       "        -0.2858654 , -0.46173594, -0.30071478,  0.07734089, -0.53266948,\n",
       "        -0.08788062, -0.43655195, -0.01570116, -0.3512221 , -0.57012832,\n",
       "        -0.48145453,  0.22909884],\n",
       "       [-0.03055182,  0.29174478,  0.53202118, -0.904355  ,  0.3573468 ,\n",
       "        -0.95848268, -0.90245677, -0.42935206, -0.62952949, -0.61145281,\n",
       "        -0.03280829, -0.34238984, -0.55215899, -0.31894971, -0.43130481,\n",
       "        -0.37003319,  0.25028446],\n",
       "       [ 0.09134551,  0.26362018,  0.45165475, -0.96167092,  0.07603493,\n",
       "        -0.42897591, -0.53187378, -0.62446618, -0.51988941, -0.51536963,\n",
       "        -0.41104811, -0.33699952, -0.542905  , -0.21192083, -0.40553584,\n",
       "        -0.3546819 ,  0.20396523],\n",
       "       [ 0.1309282 ,  0.33761814,  0.70656485, -0.72835588, -0.16986497,\n",
       "        -0.36580293, -0.5002769 , -0.20741475,  0.17113693, -0.34316193,\n",
       "         0.33012329, -0.44952897,  0.01650949, -0.31840395, -0.51491692,\n",
       "        -0.43568669,  0.24536352],\n",
       "       [-0.19665181,  0.40087743,  0.728489  , -0.50460767,  0.12379322,\n",
       "        -0.25967538, -0.65300603, -0.36125157, -0.13774829, -0.63177179,\n",
       "        -0.17704149, -0.49928975, -0.54410681, -0.61736085, -0.64590008,\n",
       "        -0.61027428,  0.10736934],\n",
       "       [-0.34591099,  0.51539912,  0.37193707, -0.11378445, -0.60173214,\n",
       "        -0.06368452,  0.04424736, -0.26244704, -0.34109535, -0.41061033,\n",
       "         0.04712919, -0.54892441, -1.02935806, -0.71191936, -0.73263735,\n",
       "        -0.80585894, -0.48370048],\n",
       "       [-0.67193865,  0.48674561,  0.38417237, -0.7837837 ,  0.06962706,\n",
       "        -0.76717518, -0.64841183, -0.51927837,  0.06155407, -0.35465992,\n",
       "        -0.60015941, -0.1438921 ,  0.11188099, -0.51949489, -0.52236392,\n",
       "        -0.60240599, -0.21064937],\n",
       "       [-1.06356157,  0.50518752,  0.3674272 , -0.71421951,  0.26551039,\n",
       "        -0.834225  , -0.69760627, -0.54438466,  0.19776019, -0.43854855,\n",
       "        -0.61835608, -0.15495537, -0.04505292, -0.54034898, -0.54803279,\n",
       "        -0.6347571 , -0.23973582],\n",
       "       [ 0.93312355, -0.36541342, -0.0724035 ,  0.86072096,  0.99453113,\n",
       "         1.18538581,  1.40837534,  0.73206925,  1.25733659,  1.30417678,\n",
       "         0.66733258,  1.64142866, -0.45529444,  0.79537172, -0.20573848,\n",
       "         0.20795413,  0.43050675],\n",
       "       [ 0.52696621, -0.49771927,  0.43102302,  0.05403167,  0.68304344,\n",
       "         1.17291568,  0.48384401,  0.86860258, -0.97508473,  0.80184396,\n",
       "         0.19054244,  0.54471977, -0.04055264,  0.49305146, -0.31951484,\n",
       "         0.32741178,  0.87938455]])"
      ]
     },
     "execution_count": 13,
     "metadata": {},
     "output_type": "execute_result"
    }
   ],
   "source": [
    "scaler = StandardScaler()\n",
    "X_scaled = scaler.fit_transform(X)\n",
    "X_scaled"
   ]
  },
  {
   "cell_type": "code",
   "execution_count": 14,
   "metadata": {},
   "outputs": [
    {
     "data": {
      "image/png": "[encoded data removed]",
      "text/plain": [
       "<Figure size 600x400 with 1 Axes>"
      ]
     },
     "metadata": {},
     "output_type": "display_data"
    },
    {
     "name": "stdout",
     "output_type": "stream",
     "text": [
      "📉 Number of components to retain 95% variance: 5\n"
     ]
    }
   ],
   "source": [
    "from sklearn.decomposition import PCA\n",
    "import matplotlib.pyplot as plt\n",
    "import numpy as np\n",
    "\n",
    "# Assume X_scaled is your scaled (standardized) 1024-dim embeddings\n",
    "pca = PCA()\n",
    "X_pca = pca.fit_transform(X_scaled)\n",
    "\n",
    "# Plot explained variance\n",
    "plt.figure(figsize=(6, 4))\n",
    "plt.plot(np.cumsum(pca.explained_variance_ratio_), marker='o')\n",
    "plt.xlabel('Number of Components')\n",
    "plt.ylabel('Cumulative Explained Variance')\n",
    "plt.title('PCA - Explained Variance')\n",
    "plt.grid(True)\n",
    "plt.axhline(y=0.95, color='r', linestyle='--', label='95% Variance')\n",
    "plt.legend()\n",
    "plt.show()\n",
    "\n",
    "# Get number of components to retain 95% variance\n",
    "n_components_95 = np.argmax(np.cumsum(pca.explained_variance_ratio_) >= 0.95) + 1\n",
    "print(f\"📉 Number of components to retain 95% variance: {n_components_95}\")"
   ]
  },
  {
   "cell_type": "code",
   "execution_count": 17,
   "metadata": {},
   "outputs": [
    {
     "data": {
      "image/png": "[encoded data removed]",
      "text/plain": [
       "<Figure size 600x400 with 1 Axes>"
      ]
     },
     "metadata": {},
     "output_type": "display_data"
    }
   ],
   "source": [
    "from sklearn.decomposition import PCA\n",
    "import matplotlib.pyplot as plt\n",
    "\n",
    "pca = PCA(n_components=5)\n",
    "X_pca = pca.fit_transform(X_scaled)\n",
    "\n",
    "# Visualize: color first 11 as one group\n",
    "\n",
    "plt.figure(figsize=(6,4))\n",
    "plt.scatter(X_pca[:,0], X_pca[:,1])\n",
    "plt.title(\"PCA Projection - First 11 are 'same environment'\")\n",
    "plt.xlabel(\"PC1\")\n",
    "plt.ylabel(\"PC2\")\n",
    "plt.grid(True)\n",
    "plt.show()"
   ]
  },
  {
   "cell_type": "code",
   "execution_count": null,
   "metadata": {},
   "outputs": [
    {
     "name": "stdout",
     "output_type": "stream",
     "text": [
      "🔍 Chosen eps: 1.1317262266825312\n"
     ]
    }
   ],
   "source": [
    "from sklearn.neighbors import NearestNeighbors\n",
    "from kneed import KneeLocator\n",
    "import matplotlib.pyplot as plt\n",
    "import numpy as np\n",
    "\n",
    "# Let's say X_2d is your data after PCA (shape: [n_samples, n_components])\n",
    "k = 2  # min_samples for DBSCAN (or set to any expected density threshold)\n",
    "\n",
    "# Step 1: Fit Nearest Neighbors model\n",
    "neighbors = NearestNeighbors(n_neighbors=k)\n",
    "neighbors_fit = neighbors.fit(X_pca)\n",
    "\n",
    "# Step 2: Calculate distances to the k-th nearest neighbor\n",
    "distances, indices = neighbors_fit.kneighbors(X_pca)\n",
    "distances = np.sort(distances, axis=0)\n",
    "distances = distances[:,1]\n",
    "# Step 3: Find elbow point (i.e. best eps)\n",
    "kneedle = KneeLocator(\n",
    "    range(len(distances)),\n",
    "    distances,\n",
    "    curve=\"convex\",\n",
    "    direction=\"increasing\",\n",
    "    S=2# Try decreasing this sensitivity parameter\n",
    ")\n",
    "\n",
    "# Step 4: This is your automated eps\n",
    "epsilon = distances[kneedle.elbow]\n",
    "print(\"🔍 Chosen eps:\", epsilon)\n",
    "\n",
    "# Optional: Plot the knee\n",
    "plt.plot(distances)\n",
    "plt.axvline(x=kneedle.elbow, color='red', linestyle='--')\n",
    "plt.title(\"K-distance Graph\")\n",
    "plt.xlabel(\"Sorted points\")\n",
    "plt.ylabel(\"Distance to {}th neighbor\".format(k))\n",
    "plt.show()\n",
    "distances_array = np.array(distances)\n",
    "acceleration = np.diff(np.diff(distances_array))\n",
    "elbow_index = np.argmax(acceleration) + 1\n",
    "epsilon = distances[elbow_index]\n",
    "print(epsilon)"
   ]
  },
  {
   "cell_type": "code",
   "execution_count": 43,
   "metadata": {},
   "outputs": [
    {
     "data": {
      "text/plain": [
       "array([-1, -1, -1, -1, -1,  0,  0,  0,  0,  0,  0,  0,  0,  0,  0,  0,  1,\n",
       "        1])"
      ]
     },
     "execution_count": 43,
     "metadata": {},
     "output_type": "execute_result"
    }
   ],
   "source": [
    "from sklearn.cluster import DBSCAN\n",
    "\n",
    "clusterer = DBSCAN(eps=2.6989701148049288, min_samples=2)\n",
    "labels = clusterer.fit_predict(X_pca)\n",
    "labels"
   ]
  }
 ],
 "metadata": {
  "kernelspec": {
   "display_name": "venv",
   "language": "python",
   "name": "python3"
  },
  "language_info": {
   "codemirror_mode": {
    "name": "ipython",
    "version": 3
   },
   "file_extension": ".py",
   "mimetype": "text/x-python",
   "name": "python",
   "nbconvert_exporter": "python",
   "pygments_lexer": "ipython3",
   "version": "3.10.12"
  }
 },
 "nbformat": 4,
 "nbformat_minor": 2
}
