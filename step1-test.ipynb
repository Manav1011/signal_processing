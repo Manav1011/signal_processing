{
 "cells": [
  {
   "cell_type": "code",
   "execution_count": 131,
   "metadata": {},
   "outputs": [],
   "source": [
    "import numpy as np\n",
    "from sklearn.cluster import DBSCAN\n",
    "from sklearn.preprocessing import StandardScaler\n",
    "import matplotlib.pyplot as plt\n",
    "from sklearn.decomposition import PCA\n",
    "\n",
    "# Your extracted features (more can be added to this list)\n",
    "X = np.array([\n",
    "   [-3.09829681e-16,  1.07407623e-15,  5.16382802e-17,  4.13106242e-17,\n",
    "        3.09829681e-16, -4.07942414e-16, -4.13106242e-17,  3.51140305e-16,\n",
    "        2.68519057e-16, -1.13604216e-16, -1.85897809e-16,  1.34259529e-16,\n",
    "       -2.06553121e-17,  8.23332143e+00,  1.15749625e-01,  1.22784213e+03,\n",
    "        8.93199161e+02],\n",
    "    [-4.54416866e-16, -1.30128466e-15, -6.19659363e-16, -5.16382802e-17,\n",
    "        1.65242497e-16, -2.68519057e-16,  2.06553121e-17, -2.06553121e-17,\n",
    "       -1.44587185e-16, -1.65242497e-16, -2.06553121e-17, -1.03276560e-16,\n",
    "        2.47863745e-16,  8.27771669e+00,  1.19479867e-01,  1.30057221e+03,\n",
    "        8.75378309e+02]\n",
    "])\n"
   ]
  },
  {
   "cell_type": "code",
   "execution_count": 133,
   "metadata": {},
   "outputs": [
    {
     "name": "stdout",
     "output_type": "stream",
     "text": [
      "Cosine similarity: 0.9993342730364877\n"
     ]
    }
   ],
   "source": [
    "from sklearn.metrics.pairwise import cosine_similarity\n",
    "import numpy as np\n",
    "\n",
    "similarity = cosine_similarity([X[0]], [X[1]])[0][0]\n",
    "print(\"Cosine similarity:\", similarity)"
   ]
  },
  {
   "cell_type": "code",
   "execution_count": 91,
   "metadata": {},
   "outputs": [
    {
     "name": "stdout",
     "output_type": "stream",
     "text": [
      "Euclidean distance: 132.66173055683123\n"
     ]
    }
   ],
   "source": [
    "from scipy.spatial.distance import euclidean\n",
    "\n",
    "euclid = euclidean(X[0], X[1])\n",
    "print(\"Euclidean distance:\", euclid)"
   ]
  },
  {
   "cell_type": "code",
   "execution_count": 92,
   "metadata": {},
   "outputs": [
    {
     "name": "stdout",
     "output_type": "stream",
     "text": [
      "Manhattan distance: 161.018886647\n"
     ]
    }
   ],
   "source": [
    "from scipy.spatial.distance import cityblock  # same as Manhattan\n",
    "\n",
    "manhattan = cityblock(X[0], X[1])\n",
    "print(\"Manhattan distance:\", manhattan)"
   ]
  },
  {
   "cell_type": "code",
   "execution_count": 93,
   "metadata": {},
   "outputs": [
    {
     "data": {
      "text/plain": [
       "array([[ 1.22474487, -1.22474487, -1.22474487,  1.22474487,  1.22474487,\n",
       "         1.22474487,  1.22474487, -1.22474487,  1.22474487,  1.22474487,\n",
       "         1.22474487,  1.22474487,  1.22474487,  1.22474487,  1.22474487,\n",
       "         1.22474487,  1.22474487],\n",
       "       [-0.81649658,  0.81649658,  0.81649658, -0.81649658, -0.81649658,\n",
       "        -0.81649658, -0.81649658,  0.81649658, -0.81649658, -0.81649658,\n",
       "        -0.81649658, -0.81649658, -0.81649658, -0.81649658, -0.81649658,\n",
       "        -0.81649658, -0.81649658],\n",
       "       [-0.81649658,  0.81649658,  0.81649658, -0.81649658, -0.81649658,\n",
       "        -0.81649658, -0.81649658,  0.81649658, -0.81649658, -0.81649658,\n",
       "        -0.81649658, -0.81649658, -0.81649658, -0.81649658, -0.81649658,\n",
       "        -0.81649658, -0.81649658],\n",
       "       [-0.81649658,  0.81649658,  0.81649658, -0.81649658, -0.81649658,\n",
       "        -0.81649658, -0.81649658,  0.81649658, -0.81649658, -0.81649658,\n",
       "        -0.81649658, -0.81649658, -0.81649658, -0.81649658, -0.81649658,\n",
       "        -0.81649658, -0.81649658],\n",
       "       [ 1.22474487, -1.22474487, -1.22474487,  1.22474487,  1.22474487,\n",
       "         1.22474487,  1.22474487, -1.22474487,  1.22474487,  1.22474487,\n",
       "         1.22474487,  1.22474487,  1.22474487,  1.22474487,  1.22474487,\n",
       "         1.22474487,  1.22474487]])"
      ]
     },
     "execution_count": 93,
     "metadata": {},
     "output_type": "execute_result"
    }
   ],
   "source": [
    "scaler = StandardScaler()\n",
    "X_scaled = scaler.fit_transform(X)\n",
    "X_scaled"
   ]
  },
  {
   "cell_type": "code",
   "execution_count": 97,
   "metadata": {},
   "outputs": [
    {
     "data": {
      "image/png": "[encoded data removed]",
      "text/plain": [
       "<Figure size 640x480 with 1 Axes>"
      ]
     },
     "metadata": {},
     "output_type": "display_data"
    },
    {
     "name": "stdout",
     "output_type": "stream",
     "text": [
      "Chosen epsilon value: 5.960464477539063e-08\n"
     ]
    }
   ],
   "source": [
    "from sklearn.neighbors import NearestNeighbors\n",
    "import matplotlib.pyplot as plt\n",
    "import numpy as np\n",
    "from kneed import KneeLocator\n",
    "\n",
    "# Find optimal eps\n",
    "neighbors = NearestNeighbors(n_neighbors=2)\n",
    "neighbors_fit = neighbors.fit(X_scaled)\n",
    "distances, indices = neighbors_fit.kneighbors(X_scaled)\n",
    "\n",
    "distances = np.sort(distances[:, 1])\n",
    "\n",
    "# Step 2: Use KneeLocator to find the optimal epsilon (elbow)\n",
    "kneedle = KneeLocator(range(len(distances)), distances, curve='convex', direction='increasing')\n",
    "epsilon = distances[kneedle.elbow]\n",
    "\n",
    "plt.plot(distances)\n",
    "plt.title(\"Use Elbow to choose eps\")\n",
    "plt.xlabel(\"Sample index\")\n",
    "plt.ylabel(\"2nd Nearest Neighbor Distance\")\n",
    "plt.grid()\n",
    "plt.show()\n",
    "print(f\"Chosen epsilon value: {epsilon}\")"
   ]
  },
  {
   "cell_type": "code",
   "execution_count": 116,
   "metadata": {},
   "outputs": [
    {
     "data": {
      "text/plain": [
       "array([[0.        , 0.00053418, 0.00053418, 0.00053418, 0.        ],\n",
       "       [0.00053418, 0.        , 0.        , 0.        , 0.00053418],\n",
       "       [0.00053418, 0.        , 0.        , 0.        , 0.00053418],\n",
       "       [0.00053418, 0.        , 0.        , 0.        , 0.00053418],\n",
       "       [0.        , 0.00053418, 0.00053418, 0.00053418, 0.        ]])"
      ]
     },
     "execution_count": 116,
     "metadata": {},
     "output_type": "execute_result"
    }
   ],
   "source": [
    "from sklearn.metrics.pairwise import cosine_distances\n",
    "cosine_dist = cosine_distances(X)\n",
    "cosine_dist"
   ]
  },
  {
   "cell_type": "code",
   "execution_count": 84,
   "metadata": {},
   "outputs": [
    {
     "name": "stdout",
     "output_type": "stream",
     "text": [
      "Cluster Labels: [0 0]\n"
     ]
    }
   ],
   "source": [
    "\n",
    "# Run DBSCAN with precomputed cosine distances\n",
    "dbscan = DBSCAN(eps=0.001, min_samples=2, metric='precomputed')\n",
    "labels = dbscan.fit_predict(cosine_dist)\n",
    "\n",
    "print(\"Cluster Labels:\", labels)"
   ]
  },
  {
   "cell_type": "code",
   "execution_count": 43,
   "metadata": {},
   "outputs": [
    {
     "data": {
      "text/plain": [
       "array([1, 0])"
      ]
     },
     "execution_count": 43,
     "metadata": {},
     "output_type": "execute_result"
    }
   ],
   "source": [
    "from sklearn.cluster import AgglomerativeClustering\n",
    "from sklearn.metrics.pairwise import cosine_distances\n",
    "\n",
    "distance_matrix = cosine_distances(X)\n",
    "model = AgglomerativeClustering(n_clusters=None, distance_threshold=0.001, metric='precomputed', linkage='average')\n",
    "labels = model.fit_predict(distance_matrix)\n",
    "labels"
   ]
  },
  {
   "cell_type": "code",
   "execution_count": null,
   "metadata": {},
   "outputs": [
    {
     "name": "stdout",
     "output_type": "stream",
     "text": [
      "[[1.        0.9993051]\n",
      " [0.9993051 1.       ]]\n"
     ]
    },
    {
     "data": {
      "text/plain": [
       "array([[ True,  True],\n",
       "       [ True,  True]])"
      ]
     },
     "execution_count": 12,
     "metadata": {},
     "output_type": "execute_result"
    }
   ],
   "source": [
    "from sklearn.metrics.pairwise import cosine_similarity\n",
    "\n",
    "sim = cosine_similarity(X)\n",
    "print(sim)\n",
    "\n",
    "# Apply a threshold to determine same/different environment\n",
    "threshold = 0.995\n",
    "is_similar = sim > threshold\n",
    "is_similar"
   ]
  }
 ],
 "metadata": {
  "kernelspec": {
   "display_name": "venv",
   "language": "python",
   "name": "python3"
  },
  "language_info": {
   "codemirror_mode": {
    "name": "ipython",
    "version": 3
   },
   "file_extension": ".py",
   "mimetype": "text/x-python",
   "name": "python",
   "nbconvert_exporter": "python",
   "pygments_lexer": "ipython3",
   "version": "3.10.16"
  }
 },
 "nbformat": 4,
 "nbformat_minor": 2
}
